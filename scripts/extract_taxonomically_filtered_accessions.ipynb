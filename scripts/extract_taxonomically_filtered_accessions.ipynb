{
 "cells": [
  {
   "cell_type": "markdown",
   "id": "54517d02-bfec-462d-a242-033e717a33d9",
   "metadata": {},
   "source": [
    "## This notebook contains scripts that extract arthropod protein accessions in NR"
   ]
  },
  {
   "cell_type": "code",
   "execution_count": 23,
   "id": "c40a6fec-e4df-4320-9efa-aa2c522756c9",
   "metadata": {},
   "outputs": [],
   "source": [
    "%%bash\n",
    "##extract arthropod taxids from ncbi nodes.dmp\n",
    "taxid=6656                      # Arthropoda\n",
    "nodes='/net/bos-nfsisilon/ifs/rc_labs/extavour_lab/rkapoor/dbs/tax_db/nodes.dmp'\n",
    "out='outputs/arthropoda.taxids'\n",
    "\n",
    "awk -F '\\t\\\\|\\t' -v root=\"$taxid\" '\n",
    "    NR==FNR { parent[$1] = $2; next }            # 1st pass\n",
    "    function is_descendant(id) {\n",
    "        while (id && id != 1 && id != root) id = parent[id];\n",
    "        return id == root;\n",
    "    }\n",
    "    END {\n",
    "        for (id in parent)\n",
    "            if (is_descendant(id))\n",
    "                print id;\n",
    "    }\n",
    "' \"$nodes\" \"$nodes\" > \"$out\""
   ]
  },
  {
   "cell_type": "code",
   "execution_count": 25,
   "id": "b5b2dc6c-9a40-4de4-a593-23402ea458a6",
   "metadata": {},
   "outputs": [],
   "source": [
    "%%bash\n",
    "# Extract all arthropod protein accessions in NR, using  the extracted arthropoda.taxids\n",
    "LC_ALL=C sort -u outputs/arthropoda.taxids > outputs/sorted_arthropoda.taxids\n",
    "\n",
    "parallel --pipepart -a /net/bos-nfsisilon/ifs/rc_labs/extavour_lab/rkapoor/dbs/tax_db/accession2taxid.tsv \\\n",
    "        -j32 --block 2G \\\n",
    "        \"awk -F'\\t' 'NR==FNR {t[\\$1]; next} (\\$2 in t){print \\$1}' \\\n",
    "             outputs/sorted_arthropoda.taxids -\" \\\n",
    "    > outputs/arthropoda.accessions.raw\n",
    "LC_ALL=C sort -u -T /scratch -S20G \\\n",
    "      outputs/arthropoda.accessions.raw \\\n",
    "      -o outputs/arthropoda.accessions"
   ]
  }
 ],
 "metadata": {
  "kernelspec": {
   "display_name": "Python [conda env:.conda-jupyter_3.6]",
   "language": "python",
   "name": "conda-env-.conda-jupyter_3.6-py"
  },
  "language_info": {
   "codemirror_mode": {
    "name": "ipython",
    "version": 3
   },
   "file_extension": ".py",
   "mimetype": "text/x-python",
   "name": "python",
   "nbconvert_exporter": "python",
   "pygments_lexer": "ipython3",
   "version": "3.6.13"
  }
 },
 "nbformat": 4,
 "nbformat_minor": 5
}
