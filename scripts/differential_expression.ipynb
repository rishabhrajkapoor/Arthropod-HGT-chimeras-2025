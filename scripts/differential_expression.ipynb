{
 "cells": [
  {
   "cell_type": "code",
   "execution_count": 1,
   "id": "e186df01-52f6-4613-b2cd-02bfa5a787ed",
   "metadata": {},
   "outputs": [],
   "source": [
    "import pandas as pd"
   ]
  },
  {
   "cell_type": "code",
   "execution_count": 6,
   "id": "7830986d-d00a-4cd1-b6b5-2e7ef85a9f0b",
   "metadata": {},
   "outputs": [
    {
     "name": "stdout",
     "output_type": "stream",
     "text": [
      "curl: Saved to filename 'GCF_000591075.1.zip'\n",
      "Archive:  GCF_000591075.1.zip\n",
      "  inflating: README.md               \n",
      "  inflating: ncbi_dataset/data/assembly_data_report.jsonl  \n",
      "  inflating: ncbi_dataset/data/GCF_000591075.1/GCF_000591075.1_Eaff_2.0_genomic.fna  \n",
      "  inflating: ncbi_dataset/data/GCF_000591075.1/genomic.gff  \n",
      "  inflating: ncbi_dataset/data/dataset_catalog.json  \n",
      "  inflating: md5sum.txt              \n"
     ]
    },
    {
     "name": "stderr",
     "output_type": "stream",
     "text": [
      "  % Total    % Received % Xferd  Average Speed   Time    Time     Time  Current\n",
      "                                 Dload  Upload   Total   Spent    Left  Speed\n",
      "100  124M    0  124M    0     0  15.7M      0 --:--:--  0:00:07 --:--:-- 8595k\n"
     ]
    }
   ],
   "source": [
    "## download genome and gff\n",
    "%%bash\n",
    "g=\"GCF_000591075.1\"\n",
    "curl -OJX GET \"https://api.ncbi.nlm.nih.gov/datasets/v2/genome/accession/$g/download?include_annotation_type=GENOME_FASTA&include_annotation_type=GENOME_GFF&hydrated=FULLY_HYDRATED&filename=$g.zip\" -H \"Accept: application/zip\"\n",
    "unzip -o $g.zip\n",
    "rm $g.zip"
   ]
  },
  {
   "cell_type": "code",
   "execution_count": 7,
   "id": "fe6df77a-5c1e-4d11-94bc-91258d7b39b7",
   "metadata": {},
   "outputs": [
    {
     "name": "stdout",
     "output_type": "stream",
     "text": [
      "\t/usr/local/bin/STAR --runThreadN 64 --runMode genomeGenerate --genomeDir ncbi_dataset/data/GCF_000591075.1/STAR --genomeFastaFiles ncbi_dataset/data/GCF_000591075.1/GCF_000591075.1_Eaff_2.0_genomic.fna --sjdbGTFfile ncbi_dataset/data/GCF_000591075.1/genomic.gff --sjdbOverhang 100\n",
      "\tSTAR version: 2.7.9a   compiled: 2021-05-04T09:43:56-0400 vega:/home/dobin/data/STAR/STARcode/STAR.master/source\n",
      "Sep 13 17:24:41 ..... started STAR run\n",
      "Sep 13 17:24:41 ... starting to generate Genome files\n",
      "Sep 13 17:24:47 ..... processing annotations GTF\n",
      "Sep 13 17:24:54 ... starting to sort Suffix Array. This may take a long time...\n",
      "Sep 13 17:24:58 ... sorting Suffix Array chunks and saving them to disk...\n",
      "Sep 13 17:25:30 ... loading chunks from disk, packing SA...\n",
      "Sep 13 17:25:44 ... finished generating suffix array\n",
      "Sep 13 17:25:44 ... generating Suffix Array index\n",
      "Sep 13 17:26:43 ... completed Suffix Array index\n",
      "Sep 13 17:26:43 ..... inserting junctions into the genome indices\n",
      "Sep 13 17:27:34 ... writing Genome to disk ...\n",
      "Sep 13 17:27:37 ... writing Suffix Array to disk ...\n",
      "Sep 13 17:27:41 ... writing SAindex to disk\n",
      "Sep 13 17:27:43 ..... finished successfully\n"
     ]
    },
    {
     "name": "stderr",
     "output_type": "stream",
     "text": [
      "!!!!! WARNING: --genomeSAindexNbases 14 is too large for the genome size=389032277, which may cause seg-fault at the mapping step. Re-run genome generation with recommended --genomeSAindexNbases 13\n"
     ]
    }
   ],
   "source": [
    "## index genome with STAR\n",
    "%%bash\n",
    "singularity exec /cvmfs/singularity.galaxyproject.org/s/t/star:2.7.9a--h9ee0642_0 STAR \\\n",
    "  --runThreadN 64 \\\n",
    "  --runMode genomeGenerate \\\n",
    "  --genomeDir ncbi_dataset/data/GCF_000591075.1/STAR \\\n",
    "  --genomeFastaFiles ncbi_dataset/data/GCF_000591075.1/GCF_000591075.1_Eaff_2.0_genomic.fna \\\n",
    "  --sjdbGTFfile ncbi_dataset/data/GCF_000591075.1/genomic.gff \\\n",
    "  --sjdbOverhang 100"
   ]
  },
  {
   "cell_type": "code",
   "execution_count": 1,
   "id": "6949cee6-7d8a-4fc6-92ca-e97ae47d71be",
   "metadata": {},
   "outputs": [],
   "source": [
    "## run rnaseq pipeline on each accession\n",
    "import pandas as pd\n",
    "sra=pd.read_csv(\"SraRunTable_Eurytemora.csv\",index_col=0)\n",
    "for x in list(sra.index):\n",
    "    !sbatch rna_pipe_paired.sh \"$x\" \"GCF_000591075.1\""
   ]
  },
  {
   "cell_type": "code",
   "execution_count": 54,
   "id": "fe871de3-dd8a-40f3-a5da-98b9829582c6",
   "metadata": {},
   "outputs": [],
   "source": [
    "import os\n",
    "dfcounts=pd.DataFrame()\n",
    "for x in os.listdir('RNA_seq_results'):\n",
    "    df=pd.read_csv(f\"RNA_seq_results/{x}/aligned.tsv\",sep=\"\\t\",index_col=0)\n",
    "    df.columns=[x]\n",
    "    dfcounts=pd.concat([dfcounts,df],axis=1)\n",
    "  \n"
   ]
  },
  {
   "cell_type": "code",
   "execution_count": 64,
   "id": "f396247d-ee78-42b5-b03b-8cda6b3f3dde",
   "metadata": {
    "tags": []
   },
   "outputs": [],
   "source": [
    "## compile counts and metadata for submission to deseq2 \n",
    "no_bacteria=list(sra[sra.treatment.str.contains('not')].index)\n",
    "F10=list(sra[sra.treatment.str.contains('F10')].index)\n",
    "ordalii=list(sra[sra.treatment.str.contains('ordalii')].index)\n",
    "alls=no_bacteria+F10+ordalii\n",
    "\n",
    "dfmeta=pd.DataFrame(index=alls)\n",
    "for index, row in dfmeta.iterrows():\n",
    "    if index in F10:\n",
    "        dfmeta.loc[index, 'treat']='F10'\n",
    "    elif index in no_bacteria:\n",
    "        dfmeta.loc[index, 'treat']='not'\n",
    "    elif index in ordalii:\n",
    "        dfmeta.loc[index, 'treat']='ord'\n",
    "dfcounts.loc[:,alls].to_csv('combined_eurytemora_counts.tsv',sep='\\t')\n",
    "dfmeta.to_csv('eurytemora_meta.tsv',sep='\\t')"
   ]
  },
  {
   "cell_type": "code",
   "execution_count": 6,
   "id": "3ec375dd-960b-4239-be2d-1198adc37c00",
   "metadata": {},
   "outputs": [
    {
     "data": {
      "text/html": [
       "<div>\n",
       "<style scoped>\n",
       "    .dataframe tbody tr th:only-of-type {\n",
       "        vertical-align: middle;\n",
       "    }\n",
       "\n",
       "    .dataframe tbody tr th {\n",
       "        vertical-align: top;\n",
       "    }\n",
       "\n",
       "    .dataframe thead th {\n",
       "        text-align: right;\n",
       "    }\n",
       "</style>\n",
       "<table border=\"1\" class=\"dataframe\">\n",
       "  <thead>\n",
       "    <tr style=\"text-align: right;\">\n",
       "      <th></th>\n",
       "      <th>baseMean</th>\n",
       "      <th>log2FoldChange</th>\n",
       "      <th>lfcSE</th>\n",
       "      <th>stat</th>\n",
       "      <th>pvalue</th>\n",
       "      <th>padj</th>\n",
       "    </tr>\n",
       "  </thead>\n",
       "  <tbody>\n",
       "    <tr>\n",
       "      <th>LOC111698135</th>\n",
       "      <td>716.382597</td>\n",
       "      <td>0.112420</td>\n",
       "      <td>0.226670</td>\n",
       "      <td>0.495964</td>\n",
       "      <td>0.619920</td>\n",
       "      <td>1.0</td>\n",
       "    </tr>\n",
       "    <tr>\n",
       "      <th>LOC111713211</th>\n",
       "      <td>1654.995113</td>\n",
       "      <td>0.080725</td>\n",
       "      <td>0.209839</td>\n",
       "      <td>0.384697</td>\n",
       "      <td>0.700462</td>\n",
       "      <td>1.0</td>\n",
       "    </tr>\n",
       "    <tr>\n",
       "      <th>LOC111712908</th>\n",
       "      <td>331.005634</td>\n",
       "      <td>-0.004296</td>\n",
       "      <td>0.297097</td>\n",
       "      <td>-0.014460</td>\n",
       "      <td>0.988463</td>\n",
       "      <td>1.0</td>\n",
       "    </tr>\n",
       "    <tr>\n",
       "      <th>LOC111705930</th>\n",
       "      <td>1218.196533</td>\n",
       "      <td>0.068210</td>\n",
       "      <td>0.169409</td>\n",
       "      <td>0.402636</td>\n",
       "      <td>0.687216</td>\n",
       "      <td>1.0</td>\n",
       "    </tr>\n",
       "  </tbody>\n",
       "</table>\n",
       "</div>"
      ],
      "text/plain": [
       "                 baseMean  log2FoldChange     lfcSE      stat    pvalue  padj\n",
       "LOC111698135   716.382597        0.112420  0.226670  0.495964  0.619920   1.0\n",
       "LOC111713211  1654.995113        0.080725  0.209839  0.384697  0.700462   1.0\n",
       "LOC111712908   331.005634       -0.004296  0.297097 -0.014460  0.988463   1.0\n",
       "LOC111705930  1218.196533        0.068210  0.169409  0.402636  0.687216   1.0"
      ]
     },
     "execution_count": 6,
     "metadata": {},
     "output_type": "execute_result"
    }
   ],
   "source": [
    "import pandas as pd\n",
    "##load deseq2 results of non-symbiotic vs non-treated and display \n",
    "deseq=pd.read_csv(\"ord_v_not.csv\",index_col=0)\n",
    "df=pd.read_csv('SI_table2.tsv',sep=\"\\t\")\n",
    "deseq.loc[set(df[(df.species.str.contains('Eurytemora'))&(df.cluster.isin([14,23,60]))].gene),:]"
   ]
  },
  {
   "cell_type": "code",
   "execution_count": 7,
   "id": "56860d61-76f7-4d2b-84ac-9b87486b5ae5",
   "metadata": {},
   "outputs": [
    {
     "data": {
      "text/html": [
       "<div>\n",
       "<style scoped>\n",
       "    .dataframe tbody tr th:only-of-type {\n",
       "        vertical-align: middle;\n",
       "    }\n",
       "\n",
       "    .dataframe tbody tr th {\n",
       "        vertical-align: top;\n",
       "    }\n",
       "\n",
       "    .dataframe thead th {\n",
       "        text-align: right;\n",
       "    }\n",
       "</style>\n",
       "<table border=\"1\" class=\"dataframe\">\n",
       "  <thead>\n",
       "    <tr style=\"text-align: right;\">\n",
       "      <th></th>\n",
       "      <th>baseMean</th>\n",
       "      <th>log2FoldChange</th>\n",
       "      <th>lfcSE</th>\n",
       "      <th>stat</th>\n",
       "      <th>pvalue</th>\n",
       "      <th>padj</th>\n",
       "    </tr>\n",
       "  </thead>\n",
       "  <tbody>\n",
       "    <tr>\n",
       "      <th>LOC111698135</th>\n",
       "      <td>716.382597</td>\n",
       "      <td>0.266272</td>\n",
       "      <td>0.226599</td>\n",
       "      <td>1.175076</td>\n",
       "      <td>0.239964</td>\n",
       "      <td>0.999924</td>\n",
       "    </tr>\n",
       "    <tr>\n",
       "      <th>LOC111713211</th>\n",
       "      <td>1654.995113</td>\n",
       "      <td>0.020820</td>\n",
       "      <td>0.209903</td>\n",
       "      <td>0.099190</td>\n",
       "      <td>0.920987</td>\n",
       "      <td>0.999924</td>\n",
       "    </tr>\n",
       "    <tr>\n",
       "      <th>LOC111712908</th>\n",
       "      <td>331.005634</td>\n",
       "      <td>0.660978</td>\n",
       "      <td>0.296188</td>\n",
       "      <td>2.231613</td>\n",
       "      <td>0.025641</td>\n",
       "      <td>0.999924</td>\n",
       "    </tr>\n",
       "    <tr>\n",
       "      <th>LOC111705930</th>\n",
       "      <td>1218.196533</td>\n",
       "      <td>0.435901</td>\n",
       "      <td>0.169197</td>\n",
       "      <td>2.576294</td>\n",
       "      <td>0.009987</td>\n",
       "      <td>0.685189</td>\n",
       "    </tr>\n",
       "  </tbody>\n",
       "</table>\n",
       "</div>"
      ],
      "text/plain": [
       "                 baseMean  log2FoldChange     lfcSE      stat    pvalue  \\\n",
       "LOC111698135   716.382597        0.266272  0.226599  1.175076  0.239964   \n",
       "LOC111713211  1654.995113        0.020820  0.209903  0.099190  0.920987   \n",
       "LOC111712908   331.005634        0.660978  0.296188  2.231613  0.025641   \n",
       "LOC111705930  1218.196533        0.435901  0.169197  2.576294  0.009987   \n",
       "\n",
       "                  padj  \n",
       "LOC111698135  0.999924  \n",
       "LOC111713211  0.999924  \n",
       "LOC111712908  0.999924  \n",
       "LOC111705930  0.685189  "
      ]
     },
     "execution_count": 7,
     "metadata": {},
     "output_type": "execute_result"
    }
   ],
   "source": [
    "import pandas as pd\n",
    "##load deseq2 results of symbiotic vs non-treated and display \n",
    "deseq=pd.read_csv(\"F10_v_not.csv\",index_col=0)\n",
    "df=pd.read_csv('SI_table2.tsv',sep=\"\\t\")\n",
    "deseq.loc[set(df[(df.species.str.contains('Eurytemora'))&(df.cluster.isin([14,23,60]))].gene),:]"
   ]
  },
  {
   "cell_type": "code",
   "execution_count": null,
   "id": "8b18221c-31aa-41ed-a9d1-2de6ba8fd0b0",
   "metadata": {},
   "outputs": [],
   "source": []
  }
 ],
 "metadata": {
  "kernelspec": {
   "display_name": "Python [conda env:.conda-jupyter_3.6]",
   "language": "python",
   "name": "conda-env-.conda-jupyter_3.6-py"
  },
  "language_info": {
   "codemirror_mode": {
    "name": "ipython",
    "version": 3
   },
   "file_extension": ".py",
   "mimetype": "text/x-python",
   "name": "python",
   "nbconvert_exporter": "python",
   "pygments_lexer": "ipython3",
   "version": "3.6.13"
  }
 },
 "nbformat": 4,
 "nbformat_minor": 5
}
