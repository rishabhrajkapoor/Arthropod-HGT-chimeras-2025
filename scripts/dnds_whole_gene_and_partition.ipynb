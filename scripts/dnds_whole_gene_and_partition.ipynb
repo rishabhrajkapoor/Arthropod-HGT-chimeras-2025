{
 "cells": [
  {
   "cell_type": "code",
   "execution_count": 1,
   "id": "8e74240e-9dfb-41f2-b436-e190bfbb6723",
   "metadata": {},
   "outputs": [],
   "source": [
    "import pandas as pd\n",
    "import subprocess\n",
    "from Bio import Entrez, SeqIO\n",
    "import ast\n",
    "import os\n",
    "import numpy as np\n",
    "from collections import defaultdict\n",
    "import time"
   ]
  },
  {
   "cell_type": "code",
   "execution_count": 11,
   "id": "5806aeb5-238e-465d-8dcc-b7e11cf26e6b",
   "metadata": {},
   "outputs": [],
   "source": [
    "## load chimeras found in > 1 genome\n",
    "dfc=pd.read_csv(\"SI tables/SI table 4.tsv\",sep=\"\\t\",index_col='cluster_id')\n",
    "dfc=dfc[dfc.n_species>1]\n"
   ]
  },
  {
   "cell_type": "markdown",
   "id": "d1a223fc-45c5-4ca2-9f04-a3298532ba0a",
   "metadata": {},
   "source": [
    "## gene/CDS-wide dN/dS analysis"
   ]
  },
  {
   "cell_type": "code",
   "execution_count": 5,
   "id": "4c0b63b8-c63d-4503-80e8-823edec0ad0d",
   "metadata": {},
   "outputs": [],
   "source": [
    "\n",
    "\"\"\"\n",
    "\n",
    "\n",
    "Look up the gene accession (locus tag) linked to an NCBI protein accession\n",
    "using E-utilities.  Requires: requests  (pip install requests)\n",
    "\n",
    "\"\"\"\n",
    "\n",
    "import sys\n",
    "from pathlib import Path\n",
    "from urllib.parse import urlencode\n",
    "import xml.etree.ElementTree as ET\n",
    "import requests\n",
    "\n",
    "\n",
    "EUTILS_BASE = \"https://eutils.ncbi.nlm.nih.gov/entrez/eutils/\"\n",
    "\n",
    "\n",
    "def protein_to_gene(prot_acc,email):\n",
    "    \"\"\"Return the gene locus tag (or GeneID) linked to a protein accession.\"\"\"\n",
    "    # Step 1: elink -- protein → gene\n",
    "    params = {\n",
    "        \"dbfrom\": \"protein\",\n",
    "        \"db\": \"gene\",\n",
    "        \"linkname\": \"protein_gene\",\n",
    "        \"id\": prot_acc,\n",
    "        \"retmode\": \"xml\",\n",
    "    }\n",
    "    params[\"email\"] = email\n",
    "\n",
    "    r = requests.get(EUTILS_BASE + \"elink.fcgi\", params=params, timeout=10)\n",
    "    r.raise_for_status()\n",
    "\n",
    "    root = ET.fromstring(r.text)\n",
    "    gene_ids = [elem.text for elem in root.findall(\".//Link/Id\")]\n",
    "    if not gene_ids:\n",
    "        return None\n",
    "\n",
    "    # Step 2: efetch gene record (take first ID if multiple)\n",
    "    gene_id = gene_ids[0]\n",
    "    params = {\"db\": \"gene\", \"id\": gene_id, \"retmode\": \"xml\"}\n",
    "    params[\"email\"] = email\n",
    "\n",
    "    r = requests.get(EUTILS_BASE + \"efetch.fcgi\", params=params, timeout=10)\n",
    "    r.raise_for_status()\n",
    "\n",
    "    root = ET.fromstring(r.text)\n",
    "    locus = root.findtext(\".//Gene-ref_locus\")\n",
    "    return locus or gene_id\n",
    "\n",
    "\n",
    "EUTILS = \"https://eutils.ncbi.nlm.nih.gov/entrez/eutils/\"\n",
    "\n",
    "def protein_to_locus_tag(acc, email):\n",
    "    \"\"\"Fetch the GenBank record for *acc* and return its first /locus_tag.\"\"\"\n",
    "    params = {\"db\": \"protein\", \"id\": acc, \"rettype\": \"gb\", \"retmode\": \"text\"}\n",
    "    if email:\n",
    "        params[\"email\"] = email\n",
    "\n",
    "    r = requests.get(EUTILS + \"efetch.fcgi\", params=params, timeout=10)\n",
    "    r.raise_for_status()\n",
    "\n",
    "    for line in r.text.splitlines():\n",
    "       \n",
    "        # GenBank flat files indent qualifiers at column 21\n",
    "        if \" /locus_tag=\" in line:\n",
    "            return line.split(\"=\", 1)[1].strip().strip('\"')\n",
    "\n",
    "    return None  \n",
    "\n"
   ]
  },
  {
   "cell_type": "code",
   "execution_count": null,
   "id": "a397e042-7ac8-4d1e-a216-4772f970d916",
   "metadata": {},
   "outputs": [
    {
     "name": "stdout",
     "output_type": "stream",
     "text": [
      "Submitted batch job 26147058\n",
      "Submitted batch job 26147106\n",
      "Submitted batch job 26147121\n",
      "Submitted batch job 26147135\n",
      "Submitted batch job 26147170\n",
      "Submitted batch job 26147195\n",
      "Submitted batch job 26147580\n",
      "Submitted batch job 26148216\n"
     ]
    }
   ],
   "source": [
    "for c in dfc.index:\n",
    "    if c not in os.listdir(\"dnds\") :\n",
    "\n",
    "        main_directory =f\"dnds/{c}\"\n",
    "        print(c)\n",
    "        ## create a dictionary between genes/locus-ids and their protein isoforms \n",
    "        email1=\"rkapoor@g.harvard.edu\"\n",
    "        email2=\"rishabh.kapoorrk@gmail.com\"\n",
    "        td=set([x for x in ast.literal_eval(dfc.loc[c,'all_chimera_sequences'])])\n",
    "        gene_to_isoform=defaultdict(list)\n",
    "        i=0\n",
    "        for xg in td:\n",
    "            genome=xg.split(\";\")[0]\n",
    "            x=xg.split(\";\")[1]\n",
    "            if i%2==0:\n",
    "                e=email1\n",
    "            else:\n",
    "                e=email2\n",
    "            if 'P_' in x:\n",
    "                g=protein_to_gene(x,e)\n",
    "            else:\n",
    "                g=protein_to_locus_tag(x,e)\n",
    "            if x=='XP_029735553.1':\n",
    "                gene_to_isoform[genome+\"_\"+\"LOC109414258\"].append(x)\n",
    "            else:\n",
    "                gene_to_isoform[genome+\"_\"+g].append(x)\n",
    "            time.sleep(2)\n",
    "            i+=1\n",
    "        \n",
    "        ##select a single protein isoform/gene\n",
    "        select_isos=[]\n",
    "        for gene,isos in gene_to_isoform.items():\n",
    "            if dfc.loc[c,'q_name'].split(\";\")[1] in isos:\n",
    "                select_isos.append(dfc.loc[c,'q_name'].split(\";\")[1])\n",
    "            else:\n",
    "                select_isos.append(isos[0])\n",
    "        \n",
    "        subprocess.run([\"mkdir\", \"-p\", f\"dnds/{c}\"])\n",
    "        #download protein and nucleotide fastas \n",
    "        sec_chimeras=[x.split(\";\")[1] for x in ast.literal_eval(dfc.loc[c,:].all_chimera_sequences)]\n",
    "        for acc in select_isos:\n",
    "            subprocess.run([\"mkdir\", f\"dnds/{c}/{acc}\"])\n",
    "            url_na=f\"http://eutils.ncbi.nlm.nih.gov/entrez/eutils/efetch.fcgi?db=protein&id={acc}&rettype=fasta_cds_na\" \n",
    "            url_prot=f\"http://eutils.ncbi.nlm.nih.gov/entrez/eutils/efetch.fcgi?db=protein&id={acc}&rettype=fasta\" \n",
    "            subprocess.run([\"wget\",url_na,\"-O\",f\"dnds/{c}/{acc}/nuc.fasta\"])\n",
    "            subprocess.run([\"wget\",url_prot,\"-O\",f\"dnds/{c}/{acc}/prot.fasta\"])\n",
    "            time.sleep(5)\n",
    "        Create an output file for concatenated sequences\n",
    "        output_nuc = f\"dnds/{c}/concatenated_nuc.fasta\"\n",
    "        output_prot = f\"dnds/{c}/concatenated_prot.fasta\"\n",
    "\n",
    "        # Initialize an empty list to store sequences\n",
    "        all_nucs = []\n",
    "        all_prots = []\n",
    "\n",
    "        # Iterate through subdirectories and create a list of all fastas\n",
    "        #Written by RK w/ ChatGPT\n",
    "        for subdir in os.listdir(main_directory):\n",
    "            subdirectory_path = os.path.join(main_directory, subdir)\n",
    "\n",
    "            if os.path.isdir(subdirectory_path):\n",
    "                nuc_fasta_file = os.path.join(subdirectory_path, \"nuc.fasta\")\n",
    "                prot_fasta_file = os.path.join(subdirectory_path, \"prot.fasta\")\n",
    "                if os.path.exists(nuc_fasta_file):\n",
    "                    # Read the sequences from nuc.fasta and add to the list\n",
    "                    sequences = list(SeqIO.parse(nuc_fasta_file, \"fasta\"))\n",
    "                    all_nucs.extend(sequences)\n",
    "\n",
    "                if os.path.exists(prot_fasta_file):\n",
    "                    # Read the sequences from nuc.fasta and add to the list\n",
    "                    sequences = list(SeqIO.parse(prot_fasta_file, \"fasta\"))\n",
    "                    all_prots.extend(sequences)\n",
    "\n",
    "        # Write the concatenated sequences to the output file\n",
    "        with open(output_nuc, \"w\") as output_handle:\n",
    "            SeqIO.write(all_nucs, output_handle, \"fasta\")\n",
    "\n",
    "        with open(output_prot, \"w\") as output_handle:\n",
    "            SeqIO.write(all_prots, output_handle, \"fasta\")\n",
    "        \n",
    "        \n",
    "        input_file = open(f\"dnds/{c}/concatenated_prot.fasta\")\n",
    "        prot_dict = SeqIO.to_dict(SeqIO.parse(input_file, \"fasta\"))\n",
    "        input_file = open(f\"dnds/{c}/concatenated_nuc.fasta\")\n",
    "        nuc_dict = SeqIO.to_dict(SeqIO.parse(input_file, \"fasta\"))\n",
    "        \n",
    "        f=open(f\"dnds/{c}/concatenated_nuc.fasta\",\"w\")\n",
    "        f1=open(f\"dnds/{c}/concatenated_prot.fasta\",\"w\")\n",
    "        for p in prot_dict.keys():\n",
    "            kn=[x for x in nuc_dict.keys() if p in x]\n",
    "            if len(kn)>0:\n",
    "                kn=kn[0]\n",
    "                f.write(f\">{kn}\")\n",
    "                f.write(\"\\n\")\n",
    "                f.write(str(nuc_dict[kn].seq))\n",
    "                f.write(\"\\n\")\n",
    "\n",
    "                f1.write(f\">{p}\")\n",
    "                f1.write(\"\\n\")\n",
    "                f1.write(str(prot_dict[p].seq))\n",
    "                f1.write(\"\\n\")\n",
    "        f.close()\n",
    "        f1.close()\n",
    "        ## make a fake tree if only two sequences\n",
    "        if len(prot_dict)==2:\n",
    "            print(\"Concatenation complete.\")\n",
    "            f=open(f\"dnds/{c}/tree.newick\",\"w\")\n",
    "            f.write(\"(\")\n",
    "            f.write(str(all_prots[0].name))\n",
    "            f.write(\":1,\")\n",
    "            f.write(str(all_prots[1].name))\n",
    "            f.write(\":1\")\n",
    "            f.write(\");\")\n",
    "            f.close()\n",
    "            subprocess.run([\"sh\",\"dnds_scripts/run_muscle.sh\", \"dnds/\"+str(c)])\n",
    "        ##else \n",
    "        else:\n",
    "            subprocess.run([\"sbatch\",\"dnds_scripts/run_iqtree_dnds_pipe.sh\", \"dnds/\"+str(c)])\n",
    "\n",
    "            \n",
    "  \n",
    "   \n",
    " \n",
    "\n"
   ]
  },
  {
   "cell_type": "code",
   "execution_count": 9,
   "id": "a168daf1-e86c-4958-9e89-dbb86f9601c1",
   "metadata": {
    "collapsed": true,
    "jupyter": {
     "outputs_hidden": true
    },
    "tags": []
   },
   "outputs": [
    {
     "name": "stdout",
     "output_type": "stream",
     "text": [
      "23 2\n"
     ]
    },
    {
     "name": "stderr",
     "output_type": "stream",
     "text": [
      "WARNING: Skipping mount /var/lib/singularity/mnt/session/etc/resolv.conf [files]: /etc/resolv.conf doesn't exist in container\n",
      "perl: warning: Setting locale failed.\n",
      "perl: warning: Please check that your locale settings:\n",
      "\tLANGUAGE = (unset),\n",
      "\tLC_ALL = \"en_US.UTF-8\",\n",
      "\tLANG = \"en_US.UTF-8\"\n",
      "    are supported and installed on your system.\n",
      "perl: warning: Falling back to the standard locale (\"C\").\n",
      "WARNING: Skipping mount /var/lib/singularity/mnt/session/etc/resolv.conf [files]: /etc/resolv.conf doesn't exist in container\n"
     ]
    },
    {
     "name": "stdout",
     "output_type": "stream",
     "text": [
      "21 2\n"
     ]
    },
    {
     "name": "stderr",
     "output_type": "stream",
     "text": [
      "perl: warning: Setting locale failed.\n",
      "perl: warning: Please check that your locale settings:\n",
      "\tLANGUAGE = (unset),\n",
      "\tLC_ALL = \"en_US.UTF-8\",\n",
      "\tLANG = \"en_US.UTF-8\"\n",
      "    are supported and installed on your system.\n",
      "perl: warning: Falling back to the standard locale (\"C\").\n",
      "WARNING: Skipping mount /var/lib/singularity/mnt/session/etc/resolv.conf [files]: /etc/resolv.conf doesn't exist in container\n"
     ]
    },
    {
     "name": "stdout",
     "output_type": "stream",
     "text": [
      "20 2\n"
     ]
    },
    {
     "name": "stderr",
     "output_type": "stream",
     "text": [
      "perl: warning: Setting locale failed.\n",
      "perl: warning: Please check that your locale settings:\n",
      "\tLANGUAGE = (unset),\n",
      "\tLC_ALL = \"en_US.UTF-8\",\n",
      "\tLANG = \"en_US.UTF-8\"\n",
      "    are supported and installed on your system.\n",
      "perl: warning: Falling back to the standard locale (\"C\").\n",
      "WARNING: Skipping mount /var/lib/singularity/mnt/session/etc/resolv.conf [files]: /etc/resolv.conf doesn't exist in container\n"
     ]
    },
    {
     "name": "stdout",
     "output_type": "stream",
     "text": [
      "19 2\n"
     ]
    },
    {
     "name": "stderr",
     "output_type": "stream",
     "text": [
      "perl: warning: Setting locale failed.\n",
      "perl: warning: Please check that your locale settings:\n",
      "\tLANGUAGE = (unset),\n",
      "\tLC_ALL = \"en_US.UTF-8\",\n",
      "\tLANG = \"en_US.UTF-8\"\n",
      "    are supported and installed on your system.\n",
      "perl: warning: Falling back to the standard locale (\"C\").\n",
      "WARNING: Skipping mount /var/lib/singularity/mnt/session/etc/resolv.conf [files]: /etc/resolv.conf doesn't exist in container\n"
     ]
    },
    {
     "name": "stdout",
     "output_type": "stream",
     "text": [
      "18 2\n"
     ]
    },
    {
     "name": "stderr",
     "output_type": "stream",
     "text": [
      "perl: warning: Setting locale failed.\n",
      "perl: warning: Please check that your locale settings:\n",
      "\tLANGUAGE = (unset),\n",
      "\tLC_ALL = \"en_US.UTF-8\",\n",
      "\tLANG = \"en_US.UTF-8\"\n",
      "    are supported and installed on your system.\n",
      "perl: warning: Falling back to the standard locale (\"C\").\n",
      "WARNING: Skipping mount /var/lib/singularity/mnt/session/etc/resolv.conf [files]: /etc/resolv.conf doesn't exist in container\n"
     ]
    },
    {
     "name": "stdout",
     "output_type": "stream",
     "text": [
      "17 2\n"
     ]
    },
    {
     "name": "stderr",
     "output_type": "stream",
     "text": [
      "perl: warning: Setting locale failed.\n",
      "perl: warning: Please check that your locale settings:\n",
      "\tLANGUAGE = (unset),\n",
      "\tLC_ALL = \"en_US.UTF-8\",\n",
      "\tLANG = \"en_US.UTF-8\"\n",
      "    are supported and installed on your system.\n",
      "perl: warning: Falling back to the standard locale (\"C\").\n",
      "WARNING: Skipping mount /var/lib/singularity/mnt/session/etc/resolv.conf [files]: /etc/resolv.conf doesn't exist in container\n"
     ]
    },
    {
     "name": "stdout",
     "output_type": "stream",
     "text": [
      "16 2\n"
     ]
    },
    {
     "name": "stderr",
     "output_type": "stream",
     "text": [
      "perl: warning: Setting locale failed.\n",
      "perl: warning: Please check that your locale settings:\n",
      "\tLANGUAGE = (unset),\n",
      "\tLC_ALL = \"en_US.UTF-8\",\n",
      "\tLANG = \"en_US.UTF-8\"\n",
      "    are supported and installed on your system.\n",
      "perl: warning: Falling back to the standard locale (\"C\").\n",
      "WARNING: Skipping mount /var/lib/singularity/mnt/session/etc/resolv.conf [files]: /etc/resolv.conf doesn't exist in container\n"
     ]
    },
    {
     "name": "stdout",
     "output_type": "stream",
     "text": [
      "15 2\n"
     ]
    },
    {
     "name": "stderr",
     "output_type": "stream",
     "text": [
      "perl: warning: Setting locale failed.\n",
      "perl: warning: Please check that your locale settings:\n",
      "\tLANGUAGE = (unset),\n",
      "\tLC_ALL = \"en_US.UTF-8\",\n",
      "\tLANG = \"en_US.UTF-8\"\n",
      "    are supported and installed on your system.\n",
      "perl: warning: Falling back to the standard locale (\"C\").\n",
      "WARNING: Skipping mount /var/lib/singularity/mnt/session/etc/resolv.conf [files]: /etc/resolv.conf doesn't exist in container\n"
     ]
    },
    {
     "name": "stdout",
     "output_type": "stream",
     "text": [
      "14 2\n"
     ]
    },
    {
     "name": "stderr",
     "output_type": "stream",
     "text": [
      "perl: warning: Setting locale failed.\n",
      "perl: warning: Please check that your locale settings:\n",
      "\tLANGUAGE = (unset),\n",
      "\tLC_ALL = \"en_US.UTF-8\",\n",
      "\tLANG = \"en_US.UTF-8\"\n",
      "    are supported and installed on your system.\n",
      "perl: warning: Falling back to the standard locale (\"C\").\n",
      "WARNING: Skipping mount /var/lib/singularity/mnt/session/etc/resolv.conf [files]: /etc/resolv.conf doesn't exist in container\n"
     ]
    },
    {
     "name": "stdout",
     "output_type": "stream",
     "text": [
      "22 2\n"
     ]
    },
    {
     "name": "stderr",
     "output_type": "stream",
     "text": [
      "perl: warning: Setting locale failed.\n",
      "perl: warning: Please check that your locale settings:\n",
      "\tLANGUAGE = (unset),\n",
      "\tLC_ALL = \"en_US.UTF-8\",\n",
      "\tLANG = \"en_US.UTF-8\"\n",
      "    are supported and installed on your system.\n",
      "perl: warning: Falling back to the standard locale (\"C\").\n",
      "WARNING: Skipping mount /var/lib/singularity/mnt/session/etc/resolv.conf [files]: /etc/resolv.conf doesn't exist in container\n"
     ]
    },
    {
     "name": "stdout",
     "output_type": "stream",
     "text": [
      "13 3\n"
     ]
    },
    {
     "name": "stderr",
     "output_type": "stream",
     "text": [
      "perl: warning: Setting locale failed.\n",
      "perl: warning: Please check that your locale settings:\n",
      "\tLANGUAGE = (unset),\n",
      "\tLC_ALL = \"en_US.UTF-8\",\n",
      "\tLANG = \"en_US.UTF-8\"\n",
      "    are supported and installed on your system.\n",
      "perl: warning: Falling back to the standard locale (\"C\").\n",
      "WARNING: Skipping mount /var/lib/singularity/mnt/session/etc/resolv.conf [files]: /etc/resolv.conf doesn't exist in container\n"
     ]
    },
    {
     "name": "stdout",
     "output_type": "stream",
     "text": [
      "12 3\n"
     ]
    },
    {
     "name": "stderr",
     "output_type": "stream",
     "text": [
      "perl: warning: Setting locale failed.\n",
      "perl: warning: Please check that your locale settings:\n",
      "\tLANGUAGE = (unset),\n",
      "\tLC_ALL = \"en_US.UTF-8\",\n",
      "\tLANG = \"en_US.UTF-8\"\n",
      "    are supported and installed on your system.\n",
      "perl: warning: Falling back to the standard locale (\"C\").\n",
      "WARNING: Skipping mount /var/lib/singularity/mnt/session/etc/resolv.conf [files]: /etc/resolv.conf doesn't exist in container\n"
     ]
    },
    {
     "name": "stdout",
     "output_type": "stream",
     "text": [
      "10 3\n"
     ]
    },
    {
     "name": "stderr",
     "output_type": "stream",
     "text": [
      "perl: warning: Setting locale failed.\n",
      "perl: warning: Please check that your locale settings:\n",
      "\tLANGUAGE = (unset),\n",
      "\tLC_ALL = \"en_US.UTF-8\",\n",
      "\tLANG = \"en_US.UTF-8\"\n",
      "    are supported and installed on your system.\n",
      "perl: warning: Falling back to the standard locale (\"C\").\n"
     ]
    },
    {
     "name": "stdout",
     "output_type": "stream",
     "text": [
      "9 3\n"
     ]
    },
    {
     "name": "stderr",
     "output_type": "stream",
     "text": [
      "WARNING: Skipping mount /var/lib/singularity/mnt/session/etc/resolv.conf [files]: /etc/resolv.conf doesn't exist in container\n",
      "perl: warning: Setting locale failed.\n",
      "perl: warning: Please check that your locale settings:\n",
      "\tLANGUAGE = (unset),\n",
      "\tLC_ALL = \"en_US.UTF-8\",\n",
      "\tLANG = \"en_US.UTF-8\"\n",
      "    are supported and installed on your system.\n",
      "perl: warning: Falling back to the standard locale (\"C\").\n"
     ]
    },
    {
     "name": "stdout",
     "output_type": "stream",
     "text": [
      "11 3\n"
     ]
    },
    {
     "name": "stderr",
     "output_type": "stream",
     "text": [
      "WARNING: Skipping mount /var/lib/singularity/mnt/session/etc/resolv.conf [files]: /etc/resolv.conf doesn't exist in container\n",
      "perl: warning: Setting locale failed.\n",
      "perl: warning: Please check that your locale settings:\n",
      "\tLANGUAGE = (unset),\n",
      "\tLC_ALL = \"en_US.UTF-8\",\n",
      "\tLANG = \"en_US.UTF-8\"\n",
      "    are supported and installed on your system.\n",
      "perl: warning: Falling back to the standard locale (\"C\").\n"
     ]
    },
    {
     "name": "stdout",
     "output_type": "stream",
     "text": [
      "8 4\n"
     ]
    },
    {
     "name": "stderr",
     "output_type": "stream",
     "text": [
      "WARNING: Skipping mount /var/lib/singularity/mnt/session/etc/resolv.conf [files]: /etc/resolv.conf doesn't exist in container\n",
      "perl: warning: Setting locale failed.\n",
      "perl: warning: Please check that your locale settings:\n",
      "\tLANGUAGE = (unset),\n",
      "\tLC_ALL = \"en_US.UTF-8\",\n",
      "\tLANG = \"en_US.UTF-8\"\n",
      "    are supported and installed on your system.\n",
      "perl: warning: Falling back to the standard locale (\"C\").\n"
     ]
    },
    {
     "name": "stdout",
     "output_type": "stream",
     "text": [
      "7 4\n"
     ]
    },
    {
     "name": "stderr",
     "output_type": "stream",
     "text": [
      "WARNING: Skipping mount /var/lib/singularity/mnt/session/etc/resolv.conf [files]: /etc/resolv.conf doesn't exist in container\n",
      "perl: warning: Setting locale failed.\n",
      "perl: warning: Please check that your locale settings:\n",
      "\tLANGUAGE = (unset),\n",
      "\tLC_ALL = \"en_US.UTF-8\",\n",
      "\tLANG = \"en_US.UTF-8\"\n",
      "    are supported and installed on your system.\n",
      "perl: warning: Falling back to the standard locale (\"C\").\n"
     ]
    },
    {
     "name": "stdout",
     "output_type": "stream",
     "text": [
      "6 5\n"
     ]
    },
    {
     "name": "stderr",
     "output_type": "stream",
     "text": [
      "WARNING: Skipping mount /var/lib/singularity/mnt/session/etc/resolv.conf [files]: /etc/resolv.conf doesn't exist in container\n",
      "perl: warning: Setting locale failed.\n",
      "perl: warning: Please check that your locale settings:\n",
      "\tLANGUAGE = (unset),\n",
      "\tLC_ALL = \"en_US.UTF-8\",\n",
      "\tLANG = \"en_US.UTF-8\"\n",
      "    are supported and installed on your system.\n",
      "perl: warning: Falling back to the standard locale (\"C\").\n"
     ]
    },
    {
     "name": "stdout",
     "output_type": "stream",
     "text": [
      "5 7\n"
     ]
    },
    {
     "name": "stderr",
     "output_type": "stream",
     "text": [
      "WARNING: Skipping mount /var/lib/singularity/mnt/session/etc/resolv.conf [files]: /etc/resolv.conf doesn't exist in container\n",
      "perl: warning: Setting locale failed.\n",
      "perl: warning: Please check that your locale settings:\n",
      "\tLANGUAGE = (unset),\n",
      "\tLC_ALL = \"en_US.UTF-8\",\n",
      "\tLANG = \"en_US.UTF-8\"\n",
      "    are supported and installed on your system.\n",
      "perl: warning: Falling back to the standard locale (\"C\").\n"
     ]
    },
    {
     "name": "stdout",
     "output_type": "stream",
     "text": [
      "4 9\n"
     ]
    },
    {
     "name": "stderr",
     "output_type": "stream",
     "text": [
      "WARNING: Skipping mount /var/lib/singularity/mnt/session/etc/resolv.conf [files]: /etc/resolv.conf doesn't exist in container\n",
      "perl: warning: Setting locale failed.\n",
      "perl: warning: Please check that your locale settings:\n",
      "\tLANGUAGE = (unset),\n",
      "\tLC_ALL = \"en_US.UTF-8\",\n",
      "\tLANG = \"en_US.UTF-8\"\n",
      "    are supported and installed on your system.\n",
      "perl: warning: Falling back to the standard locale (\"C\").\n"
     ]
    },
    {
     "name": "stdout",
     "output_type": "stream",
     "text": [
      "3 11\n"
     ]
    },
    {
     "name": "stderr",
     "output_type": "stream",
     "text": [
      "WARNING: Skipping mount /var/lib/singularity/mnt/session/etc/resolv.conf [files]: /etc/resolv.conf doesn't exist in container\n",
      "perl: warning: Setting locale failed.\n",
      "perl: warning: Please check that your locale settings:\n",
      "\tLANGUAGE = (unset),\n",
      "\tLC_ALL = \"en_US.UTF-8\",\n",
      "\tLANG = \"en_US.UTF-8\"\n",
      "    are supported and installed on your system.\n",
      "perl: warning: Falling back to the standard locale (\"C\").\n"
     ]
    },
    {
     "name": "stdout",
     "output_type": "stream",
     "text": [
      "2 11\n"
     ]
    },
    {
     "name": "stderr",
     "output_type": "stream",
     "text": [
      "WARNING: Skipping mount /var/lib/singularity/mnt/session/etc/resolv.conf [files]: /etc/resolv.conf doesn't exist in container\n",
      "perl: warning: Setting locale failed.\n",
      "perl: warning: Please check that your locale settings:\n",
      "\tLANGUAGE = (unset),\n",
      "\tLC_ALL = \"en_US.UTF-8\",\n",
      "\tLANG = \"en_US.UTF-8\"\n",
      "    are supported and installed on your system.\n",
      "perl: warning: Falling back to the standard locale (\"C\").\n"
     ]
    },
    {
     "name": "stdout",
     "output_type": "stream",
     "text": [
      "1 181\n"
     ]
    },
    {
     "name": "stderr",
     "output_type": "stream",
     "text": [
      "WARNING: Skipping mount /var/lib/singularity/mnt/session/etc/resolv.conf [files]: /etc/resolv.conf doesn't exist in container\n",
      "perl: warning: Setting locale failed.\n",
      "perl: warning: Please check that your locale settings:\n",
      "\tLANGUAGE = (unset),\n",
      "\tLC_ALL = \"en_US.UTF-8\",\n",
      "\tLANG = \"en_US.UTF-8\"\n",
      "    are supported and installed on your system.\n",
      "perl: warning: Falling back to the standard locale (\"C\").\n"
     ]
    }
   ],
   "source": [
    "## get codon alignment\n",
    "for c in dfc.index:\n",
    "    if \"paml_output.out\" not in os.listdir(f\"dnds/{c}\"):\n",
    "        print(c,dfc.loc[c,\"n_species\"])\n",
    "        input_file = open(f\"dnds/{c}/MSA_concatenated_prot.fasta\")\n",
    "        prot_dict = SeqIO.to_dict(SeqIO.parse(input_file, \"fasta\"))\n",
    "        input_file = open(f\"dnds/{c}/concatenated_nuc.fasta\")\n",
    "        nuc_dict = SeqIO.to_dict(SeqIO.parse(input_file, \"fasta\"))\n",
    "        #make sure msa and nucleotide fasta are in the same order \n",
    "        f=open(f\"dnds/{c}/concatenated_nuc.fasta\",\"w\")\n",
    "        f1=open(f\"dnds/{c}/MSA_concatenated_prot.fasta\",\"w\")\n",
    "        for p in prot_dict.keys():\n",
    "            kn=[x for x in nuc_dict.keys() if p in x]\n",
    "            if len(kn)>0:\n",
    "                kn=kn[0]\n",
    "                f.write(f\">{kn}\")\n",
    "                f.write(\"\\n\")\n",
    "                f.write(str(nuc_dict[kn].seq))\n",
    "                f.write(\"\\n\")\n",
    "\n",
    "                f1.write(f\">{p}\")\n",
    "                f1.write(\"\\n\")\n",
    "                f1.write(str(prot_dict[p].seq))\n",
    "                f1.write(\"\\n\")\n",
    "        f.close()\n",
    "        f1.close()\n",
    "        #produce a gapless codon alignment guided by the MSA \n",
    "        subprocess.run([\"sh\",\"dnds_scripts/run_pal2nal.sh\", \"dnds\",str(c)])"
   ]
  },
  {
   "cell_type": "code",
   "execution_count": null,
   "id": "88b529cc-b05d-4585-812b-5966b231cdf2",
   "metadata": {},
   "outputs": [],
   "source": [
    "## run paml to fit a gene-wide dnds estimate\n",
    "for c in dfc.sort_values(\"n_species\").index:\n",
    "    subprocess.run([\"sbatch\",\"dnds_scripts/run_paml_m0.sh\", str(c)])"
   ]
  },
  {
   "cell_type": "code",
   "execution_count": 35,
   "id": "6d75c7c7-f9f6-4037-8029-c599c4431050",
   "metadata": {},
   "outputs": [
    {
     "name": "stdout",
     "output_type": "stream",
     "text": [
      "Submitted batch job 26211451\n",
      "Submitted batch job 26211463\n",
      "Submitted batch job 26211485\n",
      "Submitted batch job 26211489\n",
      "Submitted batch job 26211491\n",
      "Submitted batch job 26211521\n",
      "Submitted batch job 26211524\n",
      "Submitted batch job 26211545\n",
      "Submitted batch job 26211549\n",
      "Submitted batch job 26211585\n",
      "Submitted batch job 26211589\n",
      "Submitted batch job 26211600\n",
      "Submitted batch job 26211610\n",
      "Submitted batch job 26211640\n",
      "Submitted batch job 26211648\n",
      "Submitted batch job 26211660\n",
      "Submitted batch job 26211669\n",
      "Submitted batch job 26211685\n",
      "Submitted batch job 26211691\n",
      "Submitted batch job 26211697\n",
      "Submitted batch job 26211699\n",
      "Submitted batch job 26211703\n",
      "Submitted batch job 26211705\n"
     ]
    }
   ],
   "source": [
    "## run paml on the null model (dnds=1)\n",
    "for c in dfc.sort_values(\"n_species\").index:\n",
    "    subprocess.run([\"sbatch\",\"dnds_scripts/run_fixed_paml_whole_gene.sh\", str(c)])"
   ]
  },
  {
   "cell_type": "code",
   "execution_count": 9,
   "id": "3eab09b3-59ae-4f65-a9a0-e48da7a67b05",
   "metadata": {},
   "outputs": [],
   "source": [
    "##compile a table with the results\n",
    "import pandas as pd\n",
    "dnds_data=pd.DataFrame(index=dfc[dfc.n_species>1].sort_values(\"n_species\").index, columns=[\"dnds_f\",\"lnL_f\",\"np_f\",\"dS_f\",\"lnL_1\",\"np_1\"]) "
   ]
  },
  {
   "cell_type": "code",
   "execution_count": 3,
   "id": "03156a78-22cc-4473-beb6-089b5de2d8a2",
   "metadata": {},
   "outputs": [
    {
     "name": "stderr",
     "output_type": "stream",
     "text": [
      "/n/home11/rkapoor/.conda/envs/rishabh/lib/python3.9/site-packages/scipy/__init__.py:146: UserWarning: A NumPy version >=1.16.5 and <1.23.0 is required for this version of SciPy (detected version 1.23.5\n",
      "  warnings.warn(f\"A NumPy version >={np_minversion} and <{np_maxversion}\"\n"
     ]
    }
   ],
   "source": [
    "import numpy as np\n",
    "import scipy \n",
    "from scipy import stats\n",
    "from statsmodels.stats.multitest import multipletests"
   ]
  },
  {
   "cell_type": "code",
   "execution_count": 28,
   "id": "f0a0c1dc-a33e-49bd-98b3-a3150b12c47d",
   "metadata": {},
   "outputs": [],
   "source": [
    "gene_dnds={}\n",
    "fails=[]\n",
    "for c in dfc[dfc.n_species>1].sort_values(\"n_species\").index:\n",
    "    \n",
    "    \n",
    "    if \"paml_output.out\" in os.listdir(f\"dnds/{c}\") and \"tree.newick\" in os.listdir(f\"dnds/{c}\"):\n",
    "       \n",
    "        f=open(f\"dnds/{c}/paml_output.out\",\"r\").readlines()\n",
    "        t=False\n",
    "        for i  in range(len(f)):\n",
    "            x=f[i]\n",
    "            if \"omega (dN/dS) =\" in x:\n",
    "                dnds_data.loc[c,\"dnds_f\"]=ast.literal_eval(x.split(\"omega (dN/dS) =\")[1].strip())\n",
    "                \n",
    "                t=True\n",
    "            if \"lnL(\" in x:\n",
    "                dnds_data.loc[c,\"np_f\"]=ast.literal_eval(x.split(\"lnL(\")[1].split(\"np:\")[1].split(\")\")[0].strip())\n",
    "                dnds_data.loc[c,\"lnL_f\"]=ast.literal_eval(x.split(\"):\")[1].strip().split()[0])\n",
    "            if \"tree length for dS:\" in x:\n",
    "                dnds_data.loc[c,\"dS_f\"]=ast.literal_eval(x.split(\"tree length for dS:\")[1].strip().split()[0])\n",
    "            if \"Printing out site pattern counts\" in x:\n",
    "            \n",
    "                dnds_data.loc[c,\"n_codons\"]=ast.literal_eval(f[i+3].split()[1])/3\n",
    "        if t==False:\n",
    "            fails.append(c)\n",
    "    else:\n",
    "        print(\"no_paml\"+c)\n",
    "        fails.append(c)\n",
    "       "
   ]
  },
  {
   "cell_type": "code",
   "execution_count": 29,
   "id": "81012b4b-f0b8-4bc8-9f47-8864079c1256",
   "metadata": {},
   "outputs": [],
   "source": [
    "for c in dfc[dfc.n_species>1].sort_values(\"n_species\").index:\n",
    "    \n",
    "    \n",
    "    if \"fix_omega_paml_output.out\" in os.listdir(f\"dnds/{c}\") and \"tree.newick\" in os.listdir(f\"dnds/{c}\"):\n",
    "       \n",
    "        f=open(f\"dnds/{c}/fix_omega_paml_output.out\",\"r\").readlines()\n",
    "        t=False\n",
    "        for x in f:\n",
    "           \n",
    "            if \"lnL(\" in x:\n",
    "                dnds_data.loc[c,\"np_1\"]=ast.literal_eval(x.split(\"lnL(\")[1].split(\"np:\")[1].split(\")\")[0].strip())\n",
    "                dnds_data.loc[c,\"lnL_1\"]=ast.literal_eval(x.split(\"):\")[1].strip().split()[0])\n",
    "            \n",
    "        if t==False:\n",
    "            fails.append(c)\n",
    "    else:\n",
    "        print(\"no_paml\"+c)\n",
    "        fails.append(c)\n",
    "       "
   ]
  },
  {
   "cell_type": "code",
   "execution_count": 30,
   "id": "2c8f51e7-2b86-4ab6-86d9-02e248650d52",
   "metadata": {},
   "outputs": [],
   "source": [
    "dnds_data[\"delta_p\"]=np.array(dnds_data[\"np_f\"])-np.array(dnds_data[\"np_1\"])\n",
    "dnds_data[\"2*delta_L\"]=2*(np.array(dnds_data[\"lnL_f\"])-np.array(dnds_data[\"lnL_1\"]))\n",
    "# rum likelihood ratio test comparing dnds to dnds fixed at 1 \n",
    "for index, row in dnds_data.iterrows():\n",
    "    dnds_data.loc[index,\"p_val\"]=scipy.stats.chi2.sf(row[\"2*delta_L\"],row[\"delta_p\"])"
   ]
  },
  {
   "cell_type": "code",
   "execution_count": 31,
   "id": "1e5dad6b-a1be-47a3-9ba7-6496575a46dc",
   "metadata": {},
   "outputs": [],
   "source": [
    "\n",
    "\n",
    "# Example p-values\n",
    "p_values = dnds_data.p_val\n",
    "\n",
    "# Perform Benjamini-Hochberg correction\n",
    "corrected_p_values =list( multipletests(p_values, method='fdr_bh')[1])\n",
    "\n",
    "dnds_data.loc[:,\"p_val_corrected\"]=corrected_p_values"
   ]
  },
  {
   "cell_type": "code",
   "execution_count": 35,
   "id": "e3245704-2d93-41bb-8643-5a0bed84d9f0",
   "metadata": {},
   "outputs": [],
   "source": [
    "for index, row in dnds_data.iterrows():\n",
    "    dnds_data.loc[index,'protein']=dfc.loc[int(index),'q_name'].split(\";\")[1]"
   ]
  },
  {
   "cell_type": "code",
   "execution_count": 37,
   "id": "299d2473-7fd2-4645-8ada-0b1fa842bd70",
   "metadata": {},
   "outputs": [],
   "source": [
    "dnds_data.to_csv(\"SI tables/gene_wide_dnds.csv\")"
   ]
  },
  {
   "cell_type": "markdown",
   "id": "bdf05767-7846-488c-934d-b995ee8f3005",
   "metadata": {},
   "source": [
    "## Run a partition model to obtain separate dn/ds estimates for HGT intervals"
   ]
  },
  {
   "cell_type": "code",
   "execution_count": 49,
   "id": "88eb7774-5fa2-4314-aa5a-12e8e4ff0cbf",
   "metadata": {
    "collapsed": true,
    "jupyter": {
     "outputs_hidden": true
    },
    "tags": []
   },
   "outputs": [
    {
     "name": "stderr",
     "output_type": "stream",
     "text": [
      "WARNING: Skipping mount /var/lib/singularity/mnt/session/etc/resolv.conf [files]: /etc/resolv.conf doesn't exist in container\n",
      "perl: warning: Setting locale failed.\n",
      "perl: warning: Please check that your locale settings:\n",
      "\tLANGUAGE = (unset),\n",
      "\tLC_ALL = \"en_US.UTF-8\",\n",
      "\tLANG = \"en_US.UTF-8\"\n",
      "    are supported and installed on your system.\n",
      "perl: warning: Falling back to the standard locale (\"C\").\n"
     ]
    },
    {
     "name": "stdout",
     "output_type": "stream",
     "text": [
      "(352,559)\n",
      "Submitted batch job 26344851\n"
     ]
    },
    {
     "name": "stderr",
     "output_type": "stream",
     "text": [
      "rm: cannot remove 'dnds/2/(352,559)': No such file or directory\n",
      "WARNING: Skipping mount /var/lib/singularity/mnt/session/etc/resolv.conf [files]: /etc/resolv.conf doesn't exist in container\n",
      "perl: warning: Setting locale failed.\n",
      "perl: warning: Please check that your locale settings:\n",
      "\tLANGUAGE = (unset),\n",
      "\tLC_ALL = \"en_US.UTF-8\",\n",
      "\tLANG = \"en_US.UTF-8\"\n",
      "    are supported and installed on your system.\n",
      "perl: warning: Falling back to the standard locale (\"C\").\n"
     ]
    },
    {
     "name": "stdout",
     "output_type": "stream",
     "text": [
      "(127,249)\n",
      "Submitted batch job 26344856\n"
     ]
    },
    {
     "name": "stderr",
     "output_type": "stream",
     "text": [
      "rm: cannot remove 'dnds/3/(127,249)': No such file or directory\n",
      "WARNING: Skipping mount /var/lib/singularity/mnt/session/etc/resolv.conf [files]: /etc/resolv.conf doesn't exist in container\n",
      "perl: warning: Setting locale failed.\n",
      "perl: warning: Please check that your locale settings:\n",
      "\tLANGUAGE = (unset),\n",
      "\tLC_ALL = \"en_US.UTF-8\",\n",
      "\tLANG = \"en_US.UTF-8\"\n",
      "    are supported and installed on your system.\n",
      "perl: warning: Falling back to the standard locale (\"C\").\n",
      "rm: cannot remove 'dnds/6/(450,633)': No such file or directory\n"
     ]
    },
    {
     "name": "stdout",
     "output_type": "stream",
     "text": [
      "(450,633)\n",
      "Submitted batch job 26344858\n"
     ]
    },
    {
     "name": "stderr",
     "output_type": "stream",
     "text": [
      "WARNING: Skipping mount /var/lib/singularity/mnt/session/etc/resolv.conf [files]: /etc/resolv.conf doesn't exist in container\n",
      "perl: warning: Setting locale failed.\n",
      "perl: warning: Please check that your locale settings:\n",
      "\tLANGUAGE = (unset),\n",
      "\tLC_ALL = \"en_US.UTF-8\",\n",
      "\tLANG = \"en_US.UTF-8\"\n",
      "    are supported and installed on your system.\n",
      "perl: warning: Falling back to the standard locale (\"C\").\n"
     ]
    },
    {
     "name": "stdout",
     "output_type": "stream",
     "text": [
      "(4,113)\n",
      "Submitted batch job 26344859\n"
     ]
    },
    {
     "name": "stderr",
     "output_type": "stream",
     "text": [
      "rm: cannot remove 'dnds/7/(4,113)': No such file or directory\n",
      "WARNING: Skipping mount /var/lib/singularity/mnt/session/etc/resolv.conf [files]: /etc/resolv.conf doesn't exist in container\n",
      "perl: warning: Setting locale failed.\n",
      "perl: warning: Please check that your locale settings:\n",
      "\tLANGUAGE = (unset),\n",
      "\tLC_ALL = \"en_US.UTF-8\",\n",
      "\tLANG = \"en_US.UTF-8\"\n",
      "    are supported and installed on your system.\n",
      "perl: warning: Falling back to the standard locale (\"C\").\n"
     ]
    },
    {
     "name": "stdout",
     "output_type": "stream",
     "text": [
      "(48,253)\n"
     ]
    },
    {
     "name": "stderr",
     "output_type": "stream",
     "text": [
      "rm: cannot remove 'dnds/8/(48,253)': No such file or directory\n"
     ]
    },
    {
     "name": "stdout",
     "output_type": "stream",
     "text": [
      "Submitted batch job 26344861\n"
     ]
    },
    {
     "name": "stderr",
     "output_type": "stream",
     "text": [
      "WARNING: Skipping mount /var/lib/singularity/mnt/session/etc/resolv.conf [files]: /etc/resolv.conf doesn't exist in container\n",
      "perl: warning: Setting locale failed.\n",
      "perl: warning: Please check that your locale settings:\n",
      "\tLANGUAGE = (unset),\n",
      "\tLC_ALL = \"en_US.UTF-8\",\n",
      "\tLANG = \"en_US.UTF-8\"\n",
      "    are supported and installed on your system.\n",
      "perl: warning: Falling back to the standard locale (\"C\").\n",
      "rm: cannot remove 'dnds/9/(5,150)': No such file or directory\n"
     ]
    },
    {
     "name": "stdout",
     "output_type": "stream",
     "text": [
      "(5,150)\n",
      "Submitted batch job 26344862\n",
      "(385,523)\n",
      "Submitted batch job 26344863\n",
      "(190,334)\n"
     ]
    },
    {
     "name": "stderr",
     "output_type": "stream",
     "text": [
      "rm: cannot remove 'dnds/9/(385,523)': No such file or directory\n",
      "rm: cannot remove 'dnds/9/(190,334)': No such file or directory\n"
     ]
    },
    {
     "name": "stdout",
     "output_type": "stream",
     "text": [
      "Submitted batch job 26344864\n"
     ]
    },
    {
     "name": "stderr",
     "output_type": "stream",
     "text": [
      "WARNING: Skipping mount /var/lib/singularity/mnt/session/etc/resolv.conf [files]: /etc/resolv.conf doesn't exist in container\n",
      "perl: warning: Setting locale failed.\n",
      "perl: warning: Please check that your locale settings:\n",
      "\tLANGUAGE = (unset),\n",
      "\tLC_ALL = \"en_US.UTF-8\",\n",
      "\tLANG = \"en_US.UTF-8\"\n",
      "    are supported and installed on your system.\n",
      "perl: warning: Falling back to the standard locale (\"C\").\n"
     ]
    },
    {
     "name": "stdout",
     "output_type": "stream",
     "text": [
      "(31,318)\n",
      "Submitted batch job 26344865\n"
     ]
    },
    {
     "name": "stderr",
     "output_type": "stream",
     "text": [
      "rm: cannot remove 'dnds/10/(31,318)': No such file or directory\n",
      "WARNING: Skipping mount /var/lib/singularity/mnt/session/etc/resolv.conf [files]: /etc/resolv.conf doesn't exist in container\n",
      "perl: warning: Setting locale failed.\n",
      "perl: warning: Please check that your locale settings:\n",
      "\tLANGUAGE = (unset),\n",
      "\tLC_ALL = \"en_US.UTF-8\",\n",
      "\tLANG = \"en_US.UTF-8\"\n",
      "    are supported and installed on your system.\n",
      "perl: warning: Falling back to the standard locale (\"C\").\n"
     ]
    },
    {
     "name": "stdout",
     "output_type": "stream",
     "text": [
      "(250,350)\n",
      "Submitted batch job 26344867\n"
     ]
    },
    {
     "name": "stderr",
     "output_type": "stream",
     "text": [
      "rm: cannot remove 'dnds/11/(250,350)': No such file or directory\n",
      "WARNING: Skipping mount /var/lib/singularity/mnt/session/etc/resolv.conf [files]: /etc/resolv.conf doesn't exist in container\n",
      "perl: warning: Setting locale failed.\n",
      "perl: warning: Please check that your locale settings:\n",
      "\tLANGUAGE = (unset),\n",
      "\tLC_ALL = \"en_US.UTF-8\",\n",
      "\tLANG = \"en_US.UTF-8\"\n",
      "    are supported and installed on your system.\n",
      "perl: warning: Falling back to the standard locale (\"C\").\n",
      "rm: cannot remove 'dnds/12/(736,1165)': No such file or directory\n"
     ]
    },
    {
     "name": "stdout",
     "output_type": "stream",
     "text": [
      "(736,1165)\n",
      "Submitted batch job 26344869\n"
     ]
    },
    {
     "name": "stderr",
     "output_type": "stream",
     "text": [
      "WARNING: Skipping mount /var/lib/singularity/mnt/session/etc/resolv.conf [files]: /etc/resolv.conf doesn't exist in container\n",
      "perl: warning: Setting locale failed.\n",
      "perl: warning: Please check that your locale settings:\n",
      "\tLANGUAGE = (unset),\n",
      "\tLC_ALL = \"en_US.UTF-8\",\n",
      "\tLANG = \"en_US.UTF-8\"\n",
      "    are supported and installed on your system.\n",
      "perl: warning: Falling back to the standard locale (\"C\").\n",
      "rm: cannot remove 'dnds/13/(49,487)': No such file or directory\n"
     ]
    },
    {
     "name": "stdout",
     "output_type": "stream",
     "text": [
      "(49,487)\n",
      "Submitted batch job 26344870\n"
     ]
    },
    {
     "name": "stderr",
     "output_type": "stream",
     "text": [
      "WARNING: Skipping mount /var/lib/singularity/mnt/session/etc/resolv.conf [files]: /etc/resolv.conf doesn't exist in container\n",
      "perl: warning: Setting locale failed.\n",
      "perl: warning: Please check that your locale settings:\n",
      "\tLANGUAGE = (unset),\n",
      "\tLC_ALL = \"en_US.UTF-8\",\n",
      "\tLANG = \"en_US.UTF-8\"\n",
      "    are supported and installed on your system.\n",
      "perl: warning: Falling back to the standard locale (\"C\").\n",
      "rm: cannot remove 'dnds/14/(88,215)': No such file or directory\n"
     ]
    },
    {
     "name": "stdout",
     "output_type": "stream",
     "text": [
      "(88,215)\n",
      "Submitted batch job 26344871\n"
     ]
    },
    {
     "name": "stderr",
     "output_type": "stream",
     "text": [
      "WARNING: Skipping mount /var/lib/singularity/mnt/session/etc/resolv.conf [files]: /etc/resolv.conf doesn't exist in container\n",
      "perl: warning: Setting locale failed.\n",
      "perl: warning: Please check that your locale settings:\n",
      "\tLANGUAGE = (unset),\n",
      "\tLC_ALL = \"en_US.UTF-8\",\n",
      "\tLANG = \"en_US.UTF-8\"\n",
      "    are supported and installed on your system.\n",
      "perl: warning: Falling back to the standard locale (\"C\").\n",
      "rm: cannot remove 'dnds/15/(720,878)': No such file or directory\n"
     ]
    },
    {
     "name": "stdout",
     "output_type": "stream",
     "text": [
      "(720,878)\n",
      "Submitted batch job 26344872\n"
     ]
    },
    {
     "name": "stderr",
     "output_type": "stream",
     "text": [
      "WARNING: Skipping mount /var/lib/singularity/mnt/session/etc/resolv.conf [files]: /etc/resolv.conf doesn't exist in container\n",
      "perl: warning: Setting locale failed.\n",
      "perl: warning: Please check that your locale settings:\n",
      "\tLANGUAGE = (unset),\n",
      "\tLC_ALL = \"en_US.UTF-8\",\n",
      "\tLANG = \"en_US.UTF-8\"\n",
      "    are supported and installed on your system.\n",
      "perl: warning: Falling back to the standard locale (\"C\").\n",
      "rm: cannot remove 'dnds/16/(6,216)': No such file or directory\n"
     ]
    },
    {
     "name": "stdout",
     "output_type": "stream",
     "text": [
      "(6,216)\n",
      "Submitted batch job 26344873\n"
     ]
    },
    {
     "name": "stderr",
     "output_type": "stream",
     "text": [
      "WARNING: Skipping mount /var/lib/singularity/mnt/session/etc/resolv.conf [files]: /etc/resolv.conf doesn't exist in container\n",
      "perl: warning: Setting locale failed.\n",
      "perl: warning: Please check that your locale settings:\n",
      "\tLANGUAGE = (unset),\n",
      "\tLC_ALL = \"en_US.UTF-8\",\n",
      "\tLANG = \"en_US.UTF-8\"\n",
      "    are supported and installed on your system.\n",
      "perl: warning: Falling back to the standard locale (\"C\").\n",
      "rm: cannot remove 'dnds/17/(482,1243)': No such file or directory\n"
     ]
    },
    {
     "name": "stdout",
     "output_type": "stream",
     "text": [
      "(482,1243)\n",
      "Submitted batch job 26344874\n"
     ]
    },
    {
     "name": "stderr",
     "output_type": "stream",
     "text": [
      "WARNING: Skipping mount /var/lib/singularity/mnt/session/etc/resolv.conf [files]: /etc/resolv.conf doesn't exist in container\n",
      "perl: warning: Setting locale failed.\n",
      "perl: warning: Please check that your locale settings:\n",
      "\tLANGUAGE = (unset),\n",
      "\tLC_ALL = \"en_US.UTF-8\",\n",
      "\tLANG = \"en_US.UTF-8\"\n",
      "    are supported and installed on your system.\n",
      "perl: warning: Falling back to the standard locale (\"C\").\n",
      "rm: cannot remove 'dnds/18/(394,509)': No such file or directory\n"
     ]
    },
    {
     "name": "stdout",
     "output_type": "stream",
     "text": [
      "(394,509)\n",
      "Submitted batch job 26344875\n"
     ]
    },
    {
     "name": "stderr",
     "output_type": "stream",
     "text": [
      "WARNING: Skipping mount /var/lib/singularity/mnt/session/etc/resolv.conf [files]: /etc/resolv.conf doesn't exist in container\n",
      "perl: warning: Setting locale failed.\n",
      "perl: warning: Please check that your locale settings:\n",
      "\tLANGUAGE = (unset),\n",
      "\tLC_ALL = \"en_US.UTF-8\",\n",
      "\tLANG = \"en_US.UTF-8\"\n",
      "    are supported and installed on your system.\n",
      "perl: warning: Falling back to the standard locale (\"C\").\n",
      "rm: cannot remove 'dnds/19/(312,439)': No such file or directory\n"
     ]
    },
    {
     "name": "stdout",
     "output_type": "stream",
     "text": [
      "(312,439)\n",
      "Submitted batch job 26344876\n"
     ]
    },
    {
     "name": "stderr",
     "output_type": "stream",
     "text": [
      "WARNING: Skipping mount /var/lib/singularity/mnt/session/etc/resolv.conf [files]: /etc/resolv.conf doesn't exist in container\n",
      "perl: warning: Setting locale failed.\n",
      "perl: warning: Please check that your locale settings:\n",
      "\tLANGUAGE = (unset),\n",
      "\tLC_ALL = \"en_US.UTF-8\",\n",
      "\tLANG = \"en_US.UTF-8\"\n",
      "    are supported and installed on your system.\n",
      "perl: warning: Falling back to the standard locale (\"C\").\n",
      "rm: cannot remove 'dnds/20/(749,869)': No such file or directory\n"
     ]
    },
    {
     "name": "stdout",
     "output_type": "stream",
     "text": [
      "(749,869)\n",
      "Submitted batch job 26344877\n"
     ]
    },
    {
     "name": "stderr",
     "output_type": "stream",
     "text": [
      "WARNING: Skipping mount /var/lib/singularity/mnt/session/etc/resolv.conf [files]: /etc/resolv.conf doesn't exist in container\n",
      "perl: warning: Setting locale failed.\n",
      "perl: warning: Please check that your locale settings:\n",
      "\tLANGUAGE = (unset),\n",
      "\tLC_ALL = \"en_US.UTF-8\",\n",
      "\tLANG = \"en_US.UTF-8\"\n",
      "    are supported and installed on your system.\n",
      "perl: warning: Falling back to the standard locale (\"C\").\n",
      "rm: cannot remove 'dnds/21/(278,504)': No such file or directory\n"
     ]
    },
    {
     "name": "stdout",
     "output_type": "stream",
     "text": [
      "(278,504)\n",
      "Submitted batch job 26344878\n"
     ]
    },
    {
     "name": "stderr",
     "output_type": "stream",
     "text": [
      "WARNING: Skipping mount /var/lib/singularity/mnt/session/etc/resolv.conf [files]: /etc/resolv.conf doesn't exist in container\n",
      "perl: warning: Setting locale failed.\n",
      "perl: warning: Please check that your locale settings:\n",
      "\tLANGUAGE = (unset),\n",
      "\tLC_ALL = \"en_US.UTF-8\",\n",
      "\tLANG = \"en_US.UTF-8\"\n",
      "    are supported and installed on your system.\n",
      "perl: warning: Falling back to the standard locale (\"C\").\n",
      "rm: cannot remove 'dnds/22/(215,442)': No such file or directory\n"
     ]
    },
    {
     "name": "stdout",
     "output_type": "stream",
     "text": [
      "(215,442)\n",
      "Submitted batch job 26344879\n"
     ]
    },
    {
     "name": "stderr",
     "output_type": "stream",
     "text": [
      "WARNING: Skipping mount /var/lib/singularity/mnt/session/etc/resolv.conf [files]: /etc/resolv.conf doesn't exist in container\n",
      "perl: warning: Setting locale failed.\n",
      "perl: warning: Please check that your locale settings:\n",
      "\tLANGUAGE = (unset),\n",
      "\tLC_ALL = \"en_US.UTF-8\",\n",
      "\tLANG = \"en_US.UTF-8\"\n",
      "    are supported and installed on your system.\n",
      "perl: warning: Falling back to the standard locale (\"C\").\n",
      "rm: cannot remove 'dnds/23/(222,383)': No such file or directory\n"
     ]
    },
    {
     "name": "stdout",
     "output_type": "stream",
     "text": [
      "(222,383)\n",
      "Submitted batch job 26344880\n"
     ]
    }
   ],
   "source": [
    "file=open(\"partion_model_fail.txt\",\"w\")\n",
    "for c in dfc.index:\n",
    "    if \"tree.newick\" in os.listdir(f\"dnds/{c}\"):\n",
    "        try:\n",
    "            ##run pal2nal to get a codon alignment with both amino acids and codons (including gaps)\n",
    "            subprocess.run([\"sh\",\"dnds_scripts/run_pal2nal_codon.sh\", str(c)])\n",
    "            lines=open(f\"dnds/{c}/pal2nal.codon\",\"r\").readlines()\n",
    "\n",
    "            lines=[x.replace(\"\\n\",\"\") for x in lines]\n",
    "      \n",
    "            nuc_al={}\n",
    "            for i in range(len(lines)-1):\n",
    "                l=lines[i].split()\n",
    "                if len(l)>1:\n",
    "                    ##select nucleotide lines of codon alignment, which begin with the name\n",
    "                    if len(l[0])>3:\n",
    "\n",
    "                        key=l[0]\n",
    "                        if key not in nuc_al:\n",
    "                            nuc_al[key]=l[1:]\n",
    "                        else:\n",
    "                            tl=nuc_al[key]\n",
    "                            tl.extend(l[1:])\n",
    "                            nuc_al[key]=tl\n",
    "            ##produce a list of indices in the gapless alignment from the residue position in the representative chimera\n",
    "            pos_ch=[]\n",
    "            ch_index=0\n",
    "            chimera=dfc.loc[c,'q_name'].split(\";\")[1]\n",
    "            for i in range(len(nuc_al[chimera])):\n",
    "                if nuc_al[chimera][i]!='---':\n",
    "                    ch_index+=1\n",
    "                if len([gene for gene in nuc_al.keys() if nuc_al[gene][i]==\"---\" or nuc_al[gene][i]==\"TAA\" or nuc_al[gene][i]==\"TAG\" or nuc_al[gene][i]==\"TGA\"])==0:\n",
    "                    pos_ch.append(ch_index)\n",
    "\n",
    "            inters=ast.literal_eval(dfc.loc[c,'HGT_intervals'])     \n",
    "            #write a paml configuration with residues in the hgt interval(s) marked as site type '2'\n",
    "            #other residues marked as site type '1'\n",
    "            for interi in inters:\n",
    "                inter=str(interi).replace(\" \",\"\")\n",
    "                if inter not in os.listdir(f\"dnds/{c}\"):\n",
    "                    print(inter)\n",
    "                    try:\n",
    "                        subprocess.run([\"rm\",\"-r\",f\"dnds/{c}/{inter}\"])\n",
    "                    except:\n",
    "                        p=1\n",
    "                    try:\n",
    "                        os.mkdir(f\"dnds/{c}/{inter}\")\n",
    "                    except:\n",
    "                        p=1\n",
    "                    \n",
    "                 \n",
    "                    f=open(f\"dnds/{c}/pal2nal.paml\",\"r\").readlines()\n",
    "                    f1=open(f\"dnds/{c}/{inter}/fs_pal2nal.paml\",\"w\")\n",
    "                    f[0].replace(\"\\n\",\"G \\n\")\n",
    "                    f1.write(f[0].replace(\"\\n\",\"G \\n\"))\n",
    "                    f1.write(\"G2\")\n",
    "                    f1.write(\"\\n\")\n",
    "                    flags=[str(int(x>=interi[0] and x<=interi[1])+1) for x in pos_ch]\n",
    "                    f1.write(\"\".join(flags))\n",
    "                    f1.write(\"\\n\")\n",
    "                    for x in f[1:]:\n",
    "                        f1.write(x)\n",
    "                    f1.close()\n",
    "                    subprocess.run([\"sbatch\",\"dnds_scripts/run_partition_paml.sh\",str(c),str(inter)])\n",
    "        except:\n",
    "            file.write(c)\n",
    "            file.write(\"\\n\")\n",
    " \n",
    "file.close()"
   ]
  },
  {
   "cell_type": "code",
   "execution_count": 12,
   "id": "2813660a-74c2-4e3f-86fb-298a745211d9",
   "metadata": {},
   "outputs": [],
   "source": [
    "pdnds=pd.DataFrame()\n",
    "import ast\n",
    "for c in dfc.index:\n",
    "    inters=ast.literal_eval(dfc.loc[c,'HGT_intervals'])     \n",
    "    for inter in inters:\n",
    "        inter=str(inter).replace(\" \",\"\")\n",
    "        try:\n",
    "            lines=open(f\"dnds/{c}/{inter}/fs_pal2nal.paml\", \"r\").readlines()\n",
    "            pdnds.loc[f\"{c}_{inter}\",\"nsites_2\"]=len([x for x in lines[2].strip() if x=='2'])\n",
    "            pdnds.loc[f\"{c}_{inter}\",\"nsites\"]=len(lines[2].strip())\n",
    "        except:\n",
    "            p=1\n",
    "        try:\n",
    "            lines=open(f\"dnds/{c}/{inter}/m2_paml_output.out\", \"r\").readlines()\n",
    "            for x in lines:\n",
    "                if \"omega (dN/dS) =\" in x:\n",
    "                    pdnds.loc[f\"{c}_{inter}\",\"dnds_f\"]=ast.literal_eval(x.split(\"omega (dN/dS) =\")[1].strip())\n",
    "                if \"lnL(\" in x:\n",
    "                    pdnds.loc[f\"{c}_{inter}\",\"np_f\"]=ast.literal_eval(x.split(\"lnL(\")[1].split(\"np:\")[1].split(\")\")[0].strip())\n",
    "                    pdnds.loc[f\"{c}_{inter}\",\"lnL_f\"]=ast.literal_eval(x.split(\"):\")[1].strip().split()[0])\n",
    "        except:\n",
    "            print(inter)\n",
    "            \n",
    "        try:\n",
    "            lines=open(f\"dnds/{c}/{inter}/m4_paml_output.out\", \"r\").readlines()\n",
    "            for x in lines:\n",
    "                if \"gene # 1: kappa =\" in x:\n",
    "                    pdnds.loc[f\"{c}_{inter}\",\"dnds_1\"]=ast.literal_eval(x.split(\"omega =\")[1].strip())\n",
    "                if \"gene # 2: kappa =\" in x:\n",
    "                    pdnds.loc[f\"{c}_{inter}\",\"dnds_2\"]=ast.literal_eval(x.split(\"omega =\")[1].strip())\n",
    "                if \"lnL(\" in x:\n",
    "                    pdnds.loc[f\"{c}_{inter}\",\"np_p\"]=ast.literal_eval(x.split(\"lnL(\")[1].split(\"np:\")[1].split(\")\")[0].strip())\n",
    "                    pdnds.loc[f\"{c}_{inter}\",\"lnL_p\"]=ast.literal_eval(x.split(\"):\")[1].strip().split()[0])\n",
    "                \n",
    "        except:\n",
    "            print(inter)"
   ]
  },
  {
   "cell_type": "code",
   "execution_count": 13,
   "id": "b58792d6-e3ec-46b2-8297-8e5720410052",
   "metadata": {},
   "outputs": [],
   "source": [
    "pdnds[\"delta_p\"]=np.array(pdnds[\"np_p\"])-np.array(pdnds[\"np_f\"])\n",
    "pdnds[\"2*delta_L\"]=2*(np.array(pdnds[\"lnL_p\"])-np.array(pdnds[\"lnL_f\"]))\n",
    "for index, row in pdnds.iterrows():\n",
    "    pdnds.loc[index,\"p_val\"]=scipy.stats.chi2.sf(row[\"2*delta_L\"],row[\"delta_p\"])\n",
    "p_values = pdnds.p_val\n",
    "\n",
    "# Perform Benjamini-Hochberg correction\n",
    "corrected_p_values = multipletests(p_values, method='fdr_bh')[1]\n",
    "\n",
    "correct_p_values=list(corrected_p_values)\n",
    "pdnds.loc[:,\"correct_p_values\"]=correct_p_values"
   ]
  },
  {
   "cell_type": "code",
   "execution_count": 17,
   "id": "28e99e7f-b4ca-4d27-b048-89b1c412d513",
   "metadata": {},
   "outputs": [],
   "source": [
    "for index, row in pdnds.iterrows():\n",
    "    pdnds.loc[index,'protein']=dfc.loc[int(index.split(\"_\")[0]),'q_name']"
   ]
  },
  {
   "cell_type": "code",
   "execution_count": 18,
   "id": "b9b7b6d0-69f8-4f11-837b-6dd090758398",
   "metadata": {},
   "outputs": [
    {
     "data": {
      "text/plain": [
       "25"
      ]
     },
     "execution_count": 18,
     "metadata": {},
     "output_type": "execute_result"
    }
   ],
   "source": [
    "pdnds.shape[0]"
   ]
  },
  {
   "cell_type": "code",
   "execution_count": 34,
   "id": "2318fb82-fe4e-41fb-8cba-502789b9d704",
   "metadata": {},
   "outputs": [],
   "source": [
    "pdnds.to_csv(\"SI tables/partition_dnds_results.csv\")"
   ]
  },
  {
   "cell_type": "markdown",
   "id": "7e7c0a58-6853-434e-b0dc-3a04d2430913",
   "metadata": {},
   "source": [
    "## Plot and summarize data"
   ]
  },
  {
   "cell_type": "code",
   "execution_count": 20,
   "id": "dfc74713-91d6-481b-9a37-9378bfe8cfb0",
   "metadata": {},
   "outputs": [],
   "source": [
    "dnds_data=pd.read_csv(\"SI tables/gene_wide_dnds.csv\",index_col=0)"
   ]
  },
  {
   "cell_type": "code",
   "execution_count": 19,
   "id": "0630e950-489e-4b4f-8993-159585a58a69",
   "metadata": {},
   "outputs": [],
   "source": [
    "from pathlib import Path\n",
    "import sys\n",
    "import matplotlib.pyplot as plt\n",
    "\n",
    "import matplotlib.font_manager\n",
    "from matplotlib.font_manager import FontProperties\n",
    "\n",
    "import matplotlib as mpl\n",
    "from matplotlib.patches import Patch\n",
    "from matplotlib.lines import Line2D\n",
    "fpath = Path(mpl.get_data_path(), \"/n/holylabs/LABS/extavour_lab/Users/rkapoor/envs/plot/fonts/arial.ttf\")\n",
    "from matplotlib.font_manager import FontProperties\n",
    "from matplotlib import font_manager\n",
    "plt.rcParams['figure.dpi'] = 300\n",
    "font_path = \"/n/holylabs/LABS/extavour_lab/Users/rkapoor/envs/plot/fonts/arial.ttf\"\n",
    "font_manager.fontManager.addfont(\"/n/holylabs/LABS/extavour_lab/Users/rkapoor/envs/plot/fonts/arial.ttf\")\n",
    "prop = font_manager.FontProperties(fname=font_path)\n",
    "plt.rcParams['font.family'] = 'sans-serif'\n",
    "plt.rcParams['font.sans-serif'] = prop.get_name()\n",
    "plt.rcParams['svg.fonttype']='none'"
   ]
  },
  {
   "cell_type": "code",
   "execution_count": 13,
   "id": "4d1cc856-c13d-4161-8b00-ce280f321cb6",
   "metadata": {},
   "outputs": [],
   "source": [
    "dnds=dnds[~dnds.index.isin([3,18])]"
   ]
  },
  {
   "cell_type": "code",
   "execution_count": 23,
   "id": "eb8988e7-e308-467e-a8bf-a2448f292215",
   "metadata": {},
   "outputs": [
    {
     "data": {
      "text/plain": [
       "21"
      ]
     },
     "execution_count": 23,
     "metadata": {},
     "output_type": "execute_result"
    }
   ],
   "source": [
    "dnds.shape[0]"
   ]
  },
  {
   "cell_type": "code",
   "execution_count": 33,
   "id": "fee55ff3-e773-49fc-afcc-babc415645a9",
   "metadata": {},
   "outputs": [],
   "source": [
    "pdnds['cluster']=[x.split(\"_\")[0] for x in pdnds.index]\n",
    "pdnds=pdnds[~pdnds['cluster'].isin(['3','18'])]\n",
    "pdnds['hgt_interval_coordinates']=[x.split(\"_\")[1] for x in pdnds.index]\n",
    "pdnds['hgt_interval_start']=[x.split(\",\")[0].replace(\"(\",\"\") for x in pdnds.hgt_interval_coordinates]\n",
    "pdnds['hgt_interval_end']=[x.split(\",\")[1].replace(\")\",\"\") for x in pdnds.hgt_interval_coordinates]\n"
   ]
  },
  {
   "cell_type": "code",
   "execution_count": 22,
   "id": "06d48340-5a0f-4a2d-8220-19f7b87a519e",
   "metadata": {},
   "outputs": [
    {
     "data": {
      "text/plain": [
       "21"
      ]
     },
     "execution_count": 22,
     "metadata": {},
     "output_type": "execute_result"
    }
   ],
   "source": [
    "len(set(pdnds.c))"
   ]
  },
  {
   "cell_type": "code",
   "execution_count": 23,
   "id": "4dc15a6f-4d40-4253-88e6-4b5b00d8eca5",
   "metadata": {},
   "outputs": [
    {
     "data": {
      "text/plain": [
       "23"
      ]
     },
     "execution_count": 23,
     "metadata": {},
     "output_type": "execute_result"
    }
   ],
   "source": [
    "pdnds.shape[0]"
   ]
  },
  {
   "cell_type": "code",
   "execution_count": 21,
   "id": "2061d730-b091-4b34-8090-f294d7aded08",
   "metadata": {},
   "outputs": [
    {
     "data": {
      "image/png": "[encoded data removed]",
      "text/plain": [
       "<Figure size 3000x900 with 2 Axes>"
      ]
     },
     "metadata": {
      "needs_background": "light"
     },
     "output_type": "display_data"
    }
   ],
   "source": [
    "fig,ax=plt.subplots(1,2,dpi=300,figsize=(10,3))\n",
    "ax[0].scatter(np.log10(dnds_data.p_val_corrected+1e-300),dnds_data.dnds_f,s=10,color='black')\n",
    "ax[0].vlines(np.log10(.05),-.1,1.5,color='black',linestyle='dashed',label=\"p_adj=.05\",linewidth=1)\n",
    "ax[0].hlines(1,-320,20,color='black',linewidth=1)\n",
    "ax[0].set_ylim(-.1,1.3)\n",
    "ax[0].set_xlim(-310,20)\n",
    "ax[0].set_title(\"A. Gene-wide dN/dS\" )\n",
    "ax[0].set_ylabel(\"dN/dS\")\n",
    "ax[0].set_xlabel(\"log10(FDR-p value+1e-300) for LRT vs dN/dS=1\")\n",
    "\n",
    "\n",
    "ax[1].scatter(pdnds.dnds_1,pdnds.dnds_2,color='black',s=20)\n",
    "ax[1].scatter(pdnds[pdnds.correct_p_values < .05].dnds_1,\n",
    "            pdnds[pdnds.correct_p_values < .05].dnds_2,\n",
    "            color='white',\n",
    "            edgecolor='black',  # Add black outline to points\n",
    "            label=\"p_adj<.05\",\n",
    "            s=20)\n",
    "ax[1].plot(np.linspace(0,.8,10),np.linspace(0,.8,10),label=\"y=x\",color='black',linestyle='dashed')\n",
    "ax[1].set_xlim(-0.05,.5)\n",
    "ax[1].set_ylim(-.05,.5)\n",
    "ax[1].legend()\n",
    "ax[1].set_xlabel(\"dN/dS for non-HGT codons\")\n",
    "ax[1].set_ylabel(\"dN/dS for HGT codons\")\n",
    "ax[1].set_title(\"B. dN/dS partioned by HGT ancestry\")\n",
    "\n",
    "\n",
    "plt.savefig(\"figures/combined_partition_dnds.svg\",format='svg')\n",
    "plt.show()"
   ]
  },
  {
   "cell_type": "code",
   "execution_count": 111,
   "id": "56a0e59e-ac09-478d-b27a-bfdb526bed54",
   "metadata": {},
   "outputs": [
    {
     "data": {
      "text/plain": [
       "21"
      ]
     },
     "execution_count": 111,
     "metadata": {},
     "output_type": "execute_result"
    }
   ],
   "source": [
    "dnds.shape[0]"
   ]
  },
  {
   "cell_type": "code",
   "execution_count": 114,
   "id": "8ba3d93e-c6d1-414e-ac8b-f3c5bc335fd9",
   "metadata": {},
   "outputs": [
    {
     "data": {
      "text/plain": [
       "21"
      ]
     },
     "execution_count": 114,
     "metadata": {},
     "output_type": "execute_result"
    }
   ],
   "source": [
    "dnds[dnds.dnds_f<1].shape[0]"
   ]
  },
  {
   "cell_type": "code",
   "execution_count": 115,
   "id": "c85885ed-9666-4a9b-afea-9cb29b606ef4",
   "metadata": {},
   "outputs": [
    {
     "data": {
      "text/plain": [
       "19"
      ]
     },
     "execution_count": 115,
     "metadata": {},
     "output_type": "execute_result"
    }
   ],
   "source": [
    "dnds[dnds.p_val_corrected<.05].shape[0]"
   ]
  },
  {
   "cell_type": "code",
   "execution_count": 112,
   "id": "f4a51ed9-7d9c-4fbd-99be-dc213ab1919c",
   "metadata": {},
   "outputs": [
    {
     "data": {
      "text/plain": [
       "19"
      ]
     },
     "execution_count": 112,
     "metadata": {},
     "output_type": "execute_result"
    }
   ],
   "source": [
    "dnds[dnds.p_val_corrected<.05].shape[0]"
   ]
  },
  {
   "cell_type": "code",
   "execution_count": 120,
   "id": "3cb8bac2-2487-4243-b3f2-4f6a1df7cc1e",
   "metadata": {},
   "outputs": [
    {
     "data": {
      "text/plain": [
       "23"
      ]
     },
     "execution_count": 120,
     "metadata": {},
     "output_type": "execute_result"
    }
   ],
   "source": [
    "pdnds.shape[0]"
   ]
  },
  {
   "cell_type": "code",
   "execution_count": 119,
   "id": "1dc7c881-0381-43fb-b1b7-128f9dd70e60",
   "metadata": {},
   "outputs": [
    {
     "data": {
      "text/plain": [
       "11"
      ]
     },
     "execution_count": 119,
     "metadata": {},
     "output_type": "execute_result"
    }
   ],
   "source": [
    "pdnds[pdnds.dnds_2>pdnds.dnds_1].shape[0]"
   ]
  },
  {
   "cell_type": "code",
   "execution_count": 123,
   "id": "6bfe5f42-8ece-4f6a-9b4e-0e5d60657c6f",
   "metadata": {},
   "outputs": [
    {
     "data": {
      "text/plain": [
       "21"
      ]
     },
     "execution_count": 123,
     "metadata": {},
     "output_type": "execute_result"
    }
   ],
   "source": [
    "len(set(pdnds.prot))"
   ]
  },
  {
   "cell_type": "code",
   "execution_count": 126,
   "id": "f4c12d5a-0143-45b8-b8d3-b42f87375f0c",
   "metadata": {},
   "outputs": [
    {
     "data": {
      "text/plain": [
       "3"
      ]
     },
     "execution_count": 126,
     "metadata": {},
     "output_type": "execute_result"
    }
   ],
   "source": [
    "pdnds[(pdnds.dnds_2>pdnds.dnds_1)&(pdnds.correct_p_values<.05)].shape[0]"
   ]
  },
  {
   "cell_type": "code",
   "execution_count": null,
   "id": "06f38a23-1531-4aa4-92f7-9c94736d64f9",
   "metadata": {},
   "outputs": [],
   "source": []
  }
 ],
 "metadata": {
  "kernelspec": {
   "display_name": "Python [conda env:.conda-rishabh]",
   "language": "python",
   "name": "conda-env-.conda-rishabh-py"
  },
  "language_info": {
   "codemirror_mode": {
    "name": "ipython",
    "version": 3
   },
   "file_extension": ".py",
   "mimetype": "text/x-python",
   "name": "python",
   "nbconvert_exporter": "python",
   "pygments_lexer": "ipython3",
   "version": "3.9.7"
  }
 },
 "nbformat": 4,
 "nbformat_minor": 5
}
