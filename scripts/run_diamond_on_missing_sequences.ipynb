{
 "cells": [
  {
   "cell_type": "code",
   "execution_count": 1,
   "id": "adcf84b0-6b6a-4e17-ac87-d81642c8ad92",
   "metadata": {},
   "outputs": [],
   "source": [
    "import os\n",
    "import pandas as pd\n",
    "from Bio import SeqIO\n",
    "import multiprocessing as mp"
   ]
  },
  {
   "cell_type": "code",
   "execution_count": 2,
   "id": "7832ca4a-d4cd-4ef3-9b78-d30ebf41db16",
   "metadata": {},
   "outputs": [],
   "source": [
    "##load chimeras from a previous iteration of the pipeline\n",
    "previous_iteration = SeqIO.to_dict(SeqIO.parse('outputs/previous_iteration_chimeras.fa', 'fasta'))"
   ]
  },
  {
   "cell_type": "code",
   "execution_count": 3,
   "id": "2a879ab1-e1a7-461b-8d2e-5b35ff37045a",
   "metadata": {},
   "outputs": [],
   "source": [
    "#load fasta w/ mmseqs clustering results \n",
    "record_dictc = SeqIO.to_dict(SeqIO.parse('outputs/mmseq_cluster_representatives.fasta', 'fasta'))"
   ]
  },
  {
   "cell_type": "code",
   "execution_count": 4,
   "id": "35991fde-a062-4e3e-b6f4-9aa77e48af72",
   "metadata": {},
   "outputs": [],
   "source": [
    "## define the set of chimeras missing from mmseqs clustering this iteration\n",
    "missing_previous_iteration=set(previous_iteration)-set(record_dictc)"
   ]
  },
  {
   "cell_type": "code",
   "execution_count": 6,
   "id": "ce6b2ac5-da49-4712-8e37-795b1ee5a9c4",
   "metadata": {},
   "outputs": [
    {
     "data": {
      "text/plain": [
       "{'GCF_001856785.1;XP_022173178.1',\n",
       " 'GCF_002204515.2;XP_021699539.1',\n",
       " 'GCF_004354385.1;XP_034487048.1',\n",
       " 'GCF_015228065.2;XP_037790819.1',\n",
       " 'GCF_021134715.1;XP_046439036.1',\n",
       " 'GCF_021134715.1;XP_046456339.1',\n",
       " 'GCF_021234035.1;XP_046649021.1',\n",
       " 'GCF_024362695.1;XP_049881676.1',\n",
       " 'GCF_902806685.2;XP_069356709.1',\n",
       " 'GCF_905147365.1;XP_041972388.1',\n",
       " 'GCF_907165205.1;XP_044763649.1'}"
      ]
     },
     "execution_count": 6,
     "metadata": {},
     "output_type": "execute_result"
    }
   ],
   "source": [
    "missing_previous_iteration"
   ]
  },
  {
   "cell_type": "code",
   "execution_count": 9,
   "id": "ef6091fb-8577-4b8e-88e7-0238844111be",
   "metadata": {},
   "outputs": [
    {
     "data": {
      "text/plain": [
       "610359"
      ]
     },
     "execution_count": 9,
     "metadata": {},
     "output_type": "execute_result"
    }
   ],
   "source": [
    "combined_records = list(record_dictc.values())                    # keep the current representatives first\n",
    "combined_records.extend(previous_iteration[_id] for _id in missing_previous_iteration)  # then append the extras\n",
    "\n",
    "out_path = \"outputs/mmseq_cluster_representatives_with_missing.fasta\"\n",
    "SeqIO.write(combined_records, out_path, \"fasta\")"
   ]
  },
  {
   "cell_type": "code",
   "execution_count": 13,
   "id": "0899eab0-be73-4969-b4ba-a08d22de313f",
   "metadata": {},
   "outputs": [],
   "source": [
    "##load fasta with all input sequences \n",
    "record_dict = SeqIO.to_dict(SeqIO.parse('outputs/concatenated_filtered_proteins.fa', 'fasta'))"
   ]
  },
  {
   "cell_type": "code",
   "execution_count": 4,
   "id": "da99435a-571e-4bad-b57d-5f87da44b570",
   "metadata": {},
   "outputs": [],
   "source": [
    "## set of sequences that successfully ran with diamond blast round 1\n",
    "blast_outputs=set(os.listdir(\"/n/netscratch/extavour_lab/Everyone/Rishabh/round1_diamond_split_outputs/\"))\n",
    "blast_outputs=set([x.replace(\".tsv\",\"\") for x in blast_outputs])"
   ]
  },
  {
   "cell_type": "code",
   "execution_count": 19,
   "id": "00adee93-ecc6-448a-bbec-8293824df68c",
   "metadata": {},
   "outputs": [],
   "source": [
    "missing_blast=set(record_dictc.keys())-blast_outputs"
   ]
  },
  {
   "cell_type": "code",
   "execution_count": 36,
   "id": "91c930d3-e151-450f-8f7f-90780d8e7f6e",
   "metadata": {},
   "outputs": [],
   "source": [
    "def write_fasta_entry(key):\n",
    "    with open(\"outputs/missing_blast_hits_round1.fasta\", \"a\") as output_handle:\n",
    "        SeqIO.write(record_dict[key], output_handle, \"fasta\")"
   ]
  },
  {
   "cell_type": "code",
   "execution_count": 30,
   "id": "817d5a20-f692-4885-beee-aacf39e3e8bf",
   "metadata": {},
   "outputs": [
    {
     "data": {
      "text/plain": [
       "(33481, 11)"
      ]
     },
     "execution_count": 30,
     "metadata": {},
     "output_type": "execute_result"
    }
   ],
   "source": [
    "len(missing_blast), len(missing_previous_iteration)"
   ]
  },
  {
   "cell_type": "code",
   "execution_count": 31,
   "id": "9c53ee89-a0fd-4422-8eaf-6ab410f0c46a",
   "metadata": {},
   "outputs": [],
   "source": [
    "tw=missing_blast|missing_previous_iteration"
   ]
  },
  {
   "cell_type": "code",
   "execution_count": 37,
   "id": "6de89c3a-f7ec-4525-827d-c3c19a2928d0",
   "metadata": {},
   "outputs": [],
   "source": [
    "with mp.Pool(processes=20) as pool:\n",
    "    \n",
    "    result=pool.map(write_fasta_entry, tw)"
   ]
  },
  {
   "cell_type": "code",
   "execution_count": 39,
   "id": "d51f0763-f9ff-427d-856b-f90f1916d5b7",
   "metadata": {},
   "outputs": [],
   "source": [
    "odict = SeqIO.to_dict(SeqIO.parse('outputs/missing_blast_hits_round1.fasta', 'fasta'))"
   ]
  },
  {
   "cell_type": "code",
   "execution_count": 42,
   "id": "fb338fbd-ef97-4233-8c4d-b31b84b3a172",
   "metadata": {},
   "outputs": [
    {
     "name": "stdout",
     "output_type": "stream",
     "text": [
      "Submitted batch job 12944297\n"
     ]
    }
   ],
   "source": [
    "!sbatch scripts/run_diamond_round1_on_missing_fasta.sh"
   ]
  },
  {
   "cell_type": "code",
   "execution_count": 1,
   "id": "0b925459-f4a4-4039-a4ee-17585ce797bc",
   "metadata": {},
   "outputs": [
    {
     "name": "stdout",
     "output_type": "stream",
     "text": [
      "Submitted batch job 13029705\n"
     ]
    }
   ],
   "source": [
    "!sbatch scripts/split_blast_table.sh /n/netscratch/extavour_lab/Everyone/Rishabh/round1_diamond_out/missing.tsv \"/n/netscratch/extavour_lab/Everyone/Rishabh/round1_diamond_split_outputs\""
   ]
  },
  {
   "cell_type": "code",
   "execution_count": null,
   "id": "348fc566-4ca4-406d-a043-45cd0268f465",
   "metadata": {},
   "outputs": [],
   "source": []
  }
 ],
 "metadata": {
  "kernelspec": {
   "display_name": "Python [conda env:.conda-rishabh]",
   "language": "python",
   "name": "conda-env-.conda-rishabh-py"
  },
  "language_info": {
   "codemirror_mode": {
    "name": "ipython",
    "version": 3
   },
   "file_extension": ".py",
   "mimetype": "text/x-python",
   "name": "python",
   "nbconvert_exporter": "python",
   "pygments_lexer": "ipython3",
   "version": "3.9.7"
  }
 },
 "nbformat": 4,
 "nbformat_minor": 5
}
