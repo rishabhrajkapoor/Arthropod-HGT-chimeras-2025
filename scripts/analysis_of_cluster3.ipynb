{
 "cells": [
  {
   "cell_type": "code",
   "execution_count": 2,
   "id": "065c6fe3-03a7-4557-a3c5-0bc92b9ac85e",
   "metadata": {},
   "outputs": [],
   "source": [
    "import pandas as pd\n",
    "df=pd.read_csv(\"SI tables/SI table 2.tsv\",sep=\"\\t\",index_col=0)\n",
    "df=df[df.cluster==3]"
   ]
  },
  {
   "cell_type": "markdown",
   "id": "4e92ea59-63c6-42a8-a463-e6ec78e5a304",
   "metadata": {},
   "source": [
    "## select the set of sequences for tree building\n",
    "cluster 3 representatives, 1 per gene, prioritizing sequences in the main interval trees"
   ]
  },
  {
   "cell_type": "code",
   "execution_count": 42,
   "id": "6695d04a-dcbe-48cb-b572-028f75869a3a",
   "metadata": {},
   "outputs": [],
   "source": [
    "dfi=pd.read_csv(\"outputs/phylogenetic_data_filtered/GCF_002217175.1;XP_035715507.1;Meta_(2,65)/combined_sequences_data.tsv\",sep=\"\\t\")\n",
    "td=set()\n",
    "tree_prots=set(dfi[dfi.secondary.isin(['True','primary_chimera'])]['target_name'])\n",
    "td=td|tree_prots"
   ]
  },
  {
   "cell_type": "code",
   "execution_count": 43,
   "id": "b04272e0-087c-4f91-a50f-50a5345d0d61",
   "metadata": {
    "tags": []
   },
   "outputs": [],
   "source": [
    "ex_gene=set(df[df.index.isin(tree_prots)].gene)\n",
    "df=df[~df.gene.isin(ex_gene)]"
   ]
  },
  {
   "cell_type": "code",
   "execution_count": 44,
   "id": "9c824cc4-2f70-43f1-961a-b6a99158331d",
   "metadata": {},
   "outputs": [],
   "source": [
    "import ast\n",
    "df['HGT_len']=[(ast.literal_eval(x)[0][1]-ast.literal_eval(x)[0][0]) + (ast.literal_eval(y)[0][1]-ast.literal_eval(y)[0][0]) for x,y in zip(df.HGT_intervals, df.Metazoan_intervals)]\n",
    "td=td|set(df.loc[df.groupby('gene')['HGT_len'].idxmax()].index)"
   ]
  },
  {
   "cell_type": "code",
   "execution_count": 46,
   "id": "bc9e977b-3b55-42ef-b091-71db609eb435",
   "metadata": {},
   "outputs": [],
   "source": [
    "!mkdir outputs/cluster_3_hgt"
   ]
  },
  {
   "cell_type": "code",
   "execution_count": 49,
   "id": "1ed3c181-5dd6-4f0b-bbc8-c29c2c040dc2",
   "metadata": {},
   "outputs": [],
   "source": [
    "td=[x.split(\";\")[1] for x in td]"
   ]
  },
  {
   "cell_type": "code",
   "execution_count": 56,
   "id": "bba602fd-ac99-478c-afaa-484cd5ce2f91",
   "metadata": {},
   "outputs": [],
   "source": [
    "import subprocess\n",
    "##retrieve protein sequences from ncbi \n",
    "for acc in td:\n",
    "\n",
    "    url_prot=f\"http://eutils.ncbi.nlm.nih.gov/entrez/eutils/efetch.fcgi?db=protein&id={acc}&rettype=fasta\" \n",
    "    subprocess.run([\"mkdir\",f\"outputs/cluster_3_hgt/{acc}\"])\n",
    "    subprocess.run([\"wget\",url_prot,\"-O\",f\"outputs/cluster_3_hgt/{acc}/prot.fasta\"])"
   ]
  },
  {
   "cell_type": "code",
   "execution_count": 62,
   "id": "32c382f3-679f-4622-9676-bdab3df956c7",
   "metadata": {},
   "outputs": [],
   "source": [
    "import os\n",
    "from Bio import SeqIO\n",
    "main_directory=\"outputs/cluster_3_hgt\""
   ]
  },
  {
   "cell_type": "code",
   "execution_count": 64,
   "id": "58e610f9-de25-471d-bb83-721726332010",
   "metadata": {},
   "outputs": [],
   "source": [
    "# Iterate through subdirectories and create a list of all fastas\n",
    "#Written by RK w/ ChatGPT\n",
    "all_prots=[]\n",
    "for subdir in os.listdir(main_directory):\n",
    "    subdirectory_path = os.path.join(main_directory, subdir)\n",
    "\n",
    "    if os.path.isdir(subdirectory_path):\n",
    "        prot_fasta_file = os.path.join(subdirectory_path, \"prot.fasta\")\n",
    "     \n",
    "\n",
    "        if os.path.exists(prot_fasta_file):\n",
    "            # Read the sequences from nuc.fasta and add to the list\n",
    "            sequences = list(SeqIO.parse(prot_fasta_file, \"fasta\"))\n",
    "            all_prots.extend(sequences)\n",
    "\n",
    "# Write the concatenated sequences to the output file\n",
    "with open(\"outputs/cluster_3_hgt/concatenated_prot.fasta\", \"w\") as output_handle:\n",
    "    SeqIO.write(all_prots, output_handle, \"fasta\")"
   ]
  },
  {
   "cell_type": "code",
   "execution_count": 2,
   "id": "5a511ad2-6ecf-4c15-8ed5-f133b3db9487",
   "metadata": {},
   "outputs": [
    {
     "name": "stdout",
     "output_type": "stream",
     "text": [
      "Submitted batch job 29687517\n"
     ]
    }
   ],
   "source": [
    "!sbatch \"dnds_scripts/run_iqtree_dnds_pipe.sh\" \"outputs/cluster_3_hgt\""
   ]
  },
  {
   "cell_type": "markdown",
   "id": "c8378096-955c-4a4b-9858-c294b71c8cb4",
   "metadata": {},
   "source": [
    "## Write iTOL annotation files for tree visualization"
   ]
  },
  {
   "cell_type": "code",
   "execution_count": 10,
   "id": "a7d50946-7f6c-4335-94ce-05a79bd6fb49",
   "metadata": {},
   "outputs": [
    {
     "name": "stderr",
     "output_type": "stream",
     "text": [
      "/n/home11/rkapoor/.conda/envs/rishabh/lib/python3.9/site-packages/scipy/__init__.py:146: UserWarning: A NumPy version >=1.16.5 and <1.23.0 is required for this version of SciPy (detected version 1.23.5\n",
      "  warnings.warn(f\"A NumPy version >={np_minversion} and <{np_maxversion}\"\n"
     ]
    }
   ],
   "source": [
    "import ete3 \n",
    "from ete3 import Tree\n",
    "t=Tree(\"outputs/cluster_3_hgt/rev_aa.treefile\")\n"
   ]
  },
  {
   "cell_type": "code",
   "execution_count": 8,
   "id": "4b25a913-a43e-4429-b6ac-6837057c95d8",
   "metadata": {},
   "outputs": [
    {
     "name": "stdout",
     "output_type": "stream",
     "text": [
      "11\n"
     ]
    },
    {
     "name": "stderr",
     "output_type": "stream",
     "text": [
      "/tmp/ipykernel_2207322/1735402859.py:3: FutureWarning: Series.__getitem__ treating keys as positions is deprecated. In a future version, integer keys will always be treated as labels (consistent with DataFrame behavior). To access a value by position, use `ser.iloc[pos]`\n",
      "  s=df[df.protein==x.name].species[0].replace(\" \",\"_\")\n"
     ]
    }
   ],
   "source": [
    "sp=set()\n",
    "for x in t:\n",
    "    s=df[df.protein==x.name].species[0].replace(\" \",\"_\")\n",
    "    sp.add(s)\n",
    "print(len(sp))"
   ]
  },
  {
   "cell_type": "code",
   "execution_count": 5,
   "id": "2738609e-28f5-4632-ad9c-f0076907b91a",
   "metadata": {},
   "outputs": [
    {
     "name": "stderr",
     "output_type": "stream",
     "text": [
      "/tmp/ipykernel_111613/2768677339.py:9: FutureWarning: Series.__getitem__ treating keys as positions is deprecated. In a future version, integer keys will always be treated as labels (consistent with DataFrame behavior). To access a value by position, use `ser.iloc[pos]`\n",
      "  s=df[df.protein==x.name].species[0].replace(\" \",\"_\")\n",
      "/tmp/ipykernel_111613/2768677339.py:10: FutureWarning: Series.__getitem__ treating keys as positions is deprecated. In a future version, integer keys will always be treated as labels (consistent with DataFrame behavior). To access a value by position, use `ser.iloc[pos]`\n",
      "  o=df[df.protein==x.name].order[0].replace(\" \",\"_\")\n"
     ]
    }
   ],
   "source": [
    "order_to_color = {\n",
    "        \"Diptera\": \"#FF0000\",\n",
    "        \"Entomobryomorpha\": \"#FFFF00\",\n",
    "        \"Symphypleona\": \"#FFD700\",\n",
    "        \"Sarcoptiformes\": \"#7851A9\",\n",
    "    }\n",
    "f=open(f\"outputs/cluster_3_hgt/itol_text.txt\",\"a\")\n",
    "for x in t:\n",
    "    s=df[df.protein==x.name].species[0].replace(\" \",\"_\")\n",
    "    o=df[df.protein==x.name].order[0].replace(\" \",\"_\")\n",
    "    c=order_to_color[o]\n",
    "    n=f\"{x.name},{x.name}|{s},-1,{c},normal,1,0\\n\"\n",
    "    f.write(n)\n",
    "f.close()"
   ]
  },
  {
   "cell_type": "code",
   "execution_count": 27,
   "id": "7e93ed50-d3b7-4348-afcd-162da1e68efa",
   "metadata": {},
   "outputs": [],
   "source": [
    "\n",
    "for x in t:\n",
    "\n",
    "    x.add_features(order=df[df.protein==x.name]['order'].values[0])"
   ]
  },
  {
   "cell_type": "code",
   "execution_count": 35,
   "id": "e107e8b5-7d6d-4f74-b5f1-9e7db5ed5e05",
   "metadata": {},
   "outputs": [
    {
     "name": "stdout",
     "output_type": "stream",
     "text": [
      "Wrote TREE_COLORS dataset to: outputs/cluster_3_hgt/tree_colors.txt\n"
     ]
    }
   ],
   "source": [
    "import os\n",
    "\n",
    "def write_tree_colors_dataset(t, df, out_path,\n",
    "                              order_to_color=None,\n",
    "                              type_for_nodes=\"clade\",   # \"clade\" or \"branch\"\n",
    "                              width=4,                   # branch width\n",
    "                              style=\"normal\"):           # \"normal\" or \"dashed\"\n",
    "    \"\"\"\n",
    "    Create an iTOL TREE_COLORS dataset from monophyletic clades defined by leaf attribute 'order'.\n",
    "\n",
    "    Parameters\n",
    "    ----------\n",
    "    t : ete3.Tree\n",
    "        Your tree with leaves named to match df['protein'].\n",
    "    df : pandas.DataFrame\n",
    "        Must contain columns 'protein' and 'order'.\n",
    "    out_path : str\n",
    "        Where to write the dataset file.\n",
    "    order_to_color : dict[str,str] | None\n",
    "        Mapping like {'Diptera': '#FF0000', ...}. If None, uses a default set.\n",
    "    type_for_nodes : str\n",
    "        'clade' colors the branch and all descendants; 'branch' colors only that branch.\n",
    "    width : int\n",
    "        Branch width in iTOL (TREE_COLORS).\n",
    "    style : str\n",
    "        Branch style in iTOL ('normal' or 'dashed').\n",
    "    \"\"\"\n",
    "\n",
    "    # ---- Defaults (edit as needed) ----\n",
    "    if order_to_color is None:\n",
    "        order_to_color = {\n",
    "            \"Diptera\": \"#FF0000\",\n",
    "            \"Entomobryomorpha\": \"#FFFF00\",\n",
    "            \"Symphypleona\": \"#FFD700\",\n",
    "            \"Sarcoptiformes\": \"#7851A9\",\n",
    "        }\n",
    "\n",
    "    # ---- Annotate leaves with \"order\" from df ----\n",
    "    prot_to_order = dict(zip(df['protein'], df['order']))\n",
    "\n",
    "    # Only annotate leaves; internal nodes might have empty names\n",
    "    for leaf in t.iter_leaves():\n",
    "        ord_val = prot_to_order.get(leaf.name)\n",
    "        if ord_val is not None:\n",
    "            leaf.add_features(order=ord_val)\n",
    "\n",
    "    # ---- Helper to label a node for iTOL (leaf or LCA via left|right) ----\n",
    "    def node_label(n):\n",
    "        if n.is_leaf():\n",
    "            return n.name\n",
    "        # pick a representative leaf from each child\n",
    "        children = n.children\n",
    "        left = children[0].get_leaves()[0].name\n",
    "        right = children[1].get_leaves()[0].name\n",
    "        return f\"{left}|{right}\"\n",
    "\n",
    "    # ---- Ensure output directory exists ----\n",
    "    os.makedirs(os.path.dirname(out_path) or \".\", exist_ok=True)\n",
    "\n",
    "    # ---- Write TREE_COLORS file ----\n",
    "    with open(out_path, \"w\", encoding=\"utf-8\") as f:\n",
    "        f.write(\"TREE_COLORS\\n\")\n",
    "        f.write(\"SEPARATOR COMMA\\n\")\n",
    "        f.write(\"DATASET_LABEL,taxonomic_label\\n\")\n",
    "        f.write(\"COLOR,#000000\\n\")  # dataset icon color (not used for rows)\n",
    "        f.write(\"DATA\\n\")\n",
    "\n",
    "        for order_name, color in order_to_color.items():\n",
    "            # Correct ETE call: values=[match values], target_attr='order'\n",
    "            for node in t.get_monophyletic(values=[order_name], target_attr='order'):\n",
    "                try:\n",
    "                    label = node_label(node)\n",
    "                    if label:\n",
    "                        # TREE_COLORS row: NODE_ID,TYPE,COLOR,STYLE,WIDTH\n",
    "                        f.write(f\"{label},{type_for_nodes},{color},{style},{width}\\n\")\n",
    "                except Exception as e:\n",
    "                    # Non-fatal; continue writing the rest\n",
    "                    print(f\"[warn] Could not write node (order={order_name}): {e}\")\n",
    "\n",
    "    print(f\"Wrote TREE_COLORS dataset to: {out_path}\")\n",
    "\n",
    "\n",
    "write_tree_colors_dataset(\n",
    "    t, df,\n",
    "    out_path=\"outputs/cluster_3_hgt/tree_colors.txt\",\n",
    "    order_to_color={\n",
    "        \"Diptera\": \"#FF0000\",\n",
    "        \"Entomobryomorpha\": \"#FFFF00\",\n",
    "        \"Symphypleona\": \"#FFD700\",\n",
    "        \"Sarcoptiformes\": \"#7851A9\",\n",
    "    },\n",
    "    type_for_nodes=\"clade\",  # or \"branch\"\n",
    "    width=4,\n",
    "    style=\"normal\"\n",
    ")\n"
   ]
  },
  {
   "cell_type": "code",
   "execution_count": null,
   "id": "148d6214-585d-426d-8e1e-0c1c43e2eeb5",
   "metadata": {},
   "outputs": [],
   "source": []
  }
 ],
 "metadata": {
  "kernelspec": {
   "display_name": "Python [conda env:.conda-rishabh]",
   "language": "python",
   "name": "conda-env-.conda-rishabh-py"
  },
  "language_info": {
   "codemirror_mode": {
    "name": "ipython",
    "version": 3
   },
   "file_extension": ".py",
   "mimetype": "text/x-python",
   "name": "python",
   "nbconvert_exporter": "python",
   "pygments_lexer": "ipython3",
   "version": "3.9.7"
  }
 },
 "nbformat": 4,
 "nbformat_minor": 5
}
